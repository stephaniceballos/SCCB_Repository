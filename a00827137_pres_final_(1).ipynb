{
  "metadata": {
    "language_info": {
      "name": "python",
      "version": "3.7.12",
      "mimetype": "text/x-python",
      "codemirror_mode": {
        "name": "ipython",
        "version": 3
      },
      "pygments_lexer": "ipython3",
      "nbconvert_exporter": "python",
      "file_extension": ".py"
    },
    "kernelspec": {
      "name": "python3",
      "display_name": "Python 3 (ipykernel)",
      "language": "python"
    },
    "colab": {
      "name": "a00827137_pres_final (1).ipynb",
      "provenance": [],
      "collapsed_sections": [],
      "include_colab_link": true
    }
  },
  "nbformat_minor": 5,
  "nbformat": 4,
  "cells": [
    {
      "cell_type": "markdown",
      "metadata": {
        "id": "view-in-github",
        "colab_type": "text"
      },
      "source": [
        "<a href=\"https://colab.research.google.com/github/stephaniceballos/SCCB_Repository/blob/main/a00827137_pres_final_(1).ipynb\" target=\"_parent\"><img src=\"https://colab.research.google.com/assets/colab-badge.svg\" alt=\"Open In Colab\"/></a>"
      ]
    },
    {
      "cell_type": "markdown",
      "source": [
        "## Final project - Daily counts of covid 19 cases in NYC"
      ],
      "metadata": {
        "id": "c4afb521-b224-4cc8-8df5-07d0c05f8eef"
      },
      "id": "c4afb521-b224-4cc8-8df5-07d0c05f8eef"
    },
    {
      "cell_type": "markdown",
      "source": [
        "**Description dataset**"
      ],
      "metadata": {
        "id": "68c56f0a-86ad-4667-a6bf-b392c060b978"
      },
      "id": "68c56f0a-86ad-4667-a6bf-b392c060b978"
    },
    {
      "cell_type": "markdown",
      "source": [
        "In this dataset we can see the daily count of COVID 19 cases, hospitalizations and deaths in\n",
        "New York City. In the variables we can observe the day, death count, hospitalizations and cases,\n",
        "there is also a probable number of the same issues, this is because there may be cases that\n",
        "were not counted due to lack of information, etc. There are also variables in which we can\n",
        "observe the same theme but obtained weekly.\n",
        "\n",
        "*All variables are numeric, discrete, only the date is a string, ordinal.*\n",
        "\n",
        "\n",
        " **Variables of interest:**\n",
        " \n",
        "\n",
        "*'CASE_COUNT': display the daily count of covid 19 cases in New York City. Is a numeric\n",
        "variable, discreet.\n",
        "\n",
        "*'HOSPITALIZED_COUNT': display the daily count of hospitalization due to covid 19 in New\n",
        "York City. Is a numeric variable, discreet.\n",
        "\n",
        "*'DEATH_COUNT': display the daily count of deaths due to covid 19 in New York City. Is a\n",
        "numeric variable, discreet.\n",
        "\n",
        "*'DATE_OF_INTEREST': display the date in which the count was taken in New York City. Is a\n",
        "string variable, ordinal."
      ],
      "metadata": {
        "id": "2e8a1ff1-e406-4c04-841f-569d2d1e1b36"
      },
      "id": "2e8a1ff1-e406-4c04-841f-569d2d1e1b36"
    },
    {
      "cell_type": "markdown",
      "source": [
        "**Interesting observations**\n",
        "\n",
        "* There was a huge wave of this pandemic situation in which, New York City reach more than\n",
        "5,000 positive cases of Covid-19 per day."
      ],
      "metadata": {
        "id": "4e0cc8b5-d409-465b-bb68-31c39814a3bf"
      },
      "id": "4e0cc8b5-d409-465b-bb68-31c39814a3bf"
    },
    {
      "cell_type": "code",
      "source": [
        "df.loc[:, 'CASE_COUNT'].max()"
      ],
      "metadata": {
        "trusted": true,
        "id": "28603560-6852-4dc5-959a-33448998edd5",
        "outputId": "955b9953-7733-4a8d-8946-3bcc7c9e4a37",
        "colab": {
          "base_uri": "https://localhost:8080/",
          "height": 0
        }
      },
      "execution_count": 39,
      "outputs": [
        {
          "output_type": "execute_result",
          "data": {
            "text/plain": [
              "6353"
            ]
          },
          "metadata": {},
          "execution_count": 39
        }
      ],
      "id": "28603560-6852-4dc5-959a-33448998edd5"
    },
    {
      "cell_type": "markdown",
      "source": [
        "Conclusion: it was really a day in which the cases of covid 19 over passed the 5,000 cases"
      ],
      "metadata": {
        "id": "929b7ee4-4cdd-41e7-8fe3-f636dda57c1d"
      },
      "id": "929b7ee4-4cdd-41e7-8fe3-f636dda57c1d"
    },
    {
      "cell_type": "markdown",
      "source": [
        "* The hugest wave of cases of covid 19 took place on march of 2020"
      ],
      "metadata": {
        "id": "054bf715-45b3-4aaa-a487-4219d429bc8a"
      },
      "id": "054bf715-45b3-4aaa-a487-4219d429bc8a"
    },
    {
      "cell_type": "code",
      "source": [
        "df.plot(figsize = (20,10))\n",
        "plt.xlabel('Date', fontsize = 17)\n",
        "plt.xticks(fontsize = 17, rotation = 45)\n",
        "plt.ylabel('Cases', fontsize = 17)\n",
        "plt.yticks(fontsize = 17)\n",
        "plt.title('New York City', fontsize = 17)"
      ],
      "metadata": {
        "trusted": true,
        "id": "4ee531d6-3d84-4288-a26c-913cc68384a5",
        "outputId": "eab1cf58-5633-483e-f516-c9cdefe385b8",
        "colab": {
          "base_uri": "https://localhost:8080/",
          "height": 715
        }
      },
      "execution_count": 40,
      "outputs": [
        {
          "output_type": "execute_result",
          "data": {
            "text/plain": [
              "Text(0.5, 1.0, 'New York City')"
            ]
          },
          "metadata": {},
          "execution_count": 40
        },
        {
          "output_type": "display_data",
          "data": {
            "text/plain": [
              "<Figure size 1440x720 with 1 Axes>"
            ],
            "image/png": "[encoded data removed]"
          },
          "metadata": {}
        }
      ],
      "id": "4ee531d6-3d84-4288-a26c-913cc68384a5"
    },
    {
      "cell_type": "markdown",
      "source": [
        "Conclusion: I graphed the database of the daily count and I realize that actually, the highest\n",
        "wave of covid 19 was on the end of the last year, it was greater even than how it was on march\n",
        "of 2020"
      ],
      "metadata": {
        "id": "6b42d073-f50e-4c7a-bb10-304961313912"
      },
      "id": "6b42d073-f50e-4c7a-bb10-304961313912"
    },
    {
      "cell_type": "markdown",
      "source": [
        "**Graphical visualization**\n",
        "1. How was the behavior of the cases of covid 19 on march 2020?"
      ],
      "metadata": {
        "id": "94de3837-bab7-4446-a5f9-6695061e3e5e"
      },
      "id": "94de3837-bab7-4446-a5f9-6695061e3e5e"
    },
    {
      "cell_type": "code",
      "source": [
        "mar_data = df.iloc[1:36,1:]\n",
        "mar_data.plot(figsize = (20,10))\n",
        "plt.xlabel('Date', fontsize = 17)\n",
        "plt.xticks(fontsize = 17, rotation = 45)\n",
        "plt.ylabel('Cases', fontsize = 17)\n",
        "plt.yticks(fontsize = 17)\n",
        "plt.title('March data', fontsize = 17)"
      ],
      "metadata": {
        "trusted": true,
        "id": "700c231e-3141-4f28-908c-31f1fda5ca8a",
        "outputId": "3d5be037-1cb0-436c-94fe-28da94e7756c",
        "colab": {
          "base_uri": "https://localhost:8080/",
          "height": 715
        }
      },
      "execution_count": 51,
      "outputs": [
        {
          "output_type": "execute_result",
          "data": {
            "text/plain": [
              "Text(0.5, 1.0, 'March data')"
            ]
          },
          "metadata": {},
          "execution_count": 51
        },
        {
          "output_type": "display_data",
          "data": {
            "text/plain": [
              "<Figure size 1440x720 with 1 Axes>"
            ],
            "image/png": "[encoded data removed]"
          },
          "metadata": {}
        }
      ],
      "id": "700c231e-3141-4f28-908c-31f1fda5ca8a"
    },
    {
      "cell_type": "markdown",
      "source": [
        "Conclusion: Actually, we can observe that the cases started incresing by the end of march 2020,\n",
        "but, they also started to decrease by the beginnig of april, so, the real increase of cases started\n",
        "by the end of the month. We made an hypothesis about that march of 2020 was the month with\n",
        "higher covid 19 cases, but with this graph we can reject the hypothesis, because, actually it\n",
        "started at the end of this month."
      ],
      "metadata": {
        "id": "f699c17b-5ff0-4942-a324-876ae669f75e"
      },
      "id": "f699c17b-5ff0-4942-a324-876ae669f75e"
    },
    {
      "cell_type": "markdown",
      "source": [
        "1. How were the last 5 days of the counting cases of covid 19 related to the counting of deaths?"
      ],
      "metadata": {
        "id": "e3dfae81-e1e9-421a-ac0e-2dd424300b38"
      },
      "id": "e3dfae81-e1e9-421a-ac0e-2dd424300b38"
    },
    {
      "cell_type": "code",
      "source": [
        "CASE_COUNT = df['CASE_COUNT'].tail(5)\n",
        "DEATH_COUNT = df['DEATH_COUNT'].tail(5)\n",
        "\n",
        "plt.xlabel('CASE_COUNT')\n",
        "plt.ylabel('DEATH_COUNT')\n",
        "plt.bar(CASE_COUNT, DEATH_COUNT, color='pink', width=45)\n",
        "\n",
        "plt.show()"
      ],
      "metadata": {
        "trusted": true,
        "id": "d1c06371-0c43-4f84-87e5-616b517b656d",
        "outputId": "47c0683b-bc79-415d-a6c9-c57c265b516a",
        "colab": {
          "base_uri": "https://localhost:8080/",
          "height": 282
        }
      },
      "execution_count": 47,
      "outputs": [
        {
          "output_type": "display_data",
          "data": {
            "text/plain": [
              "<Figure size 432x288 with 1 Axes>"
            ],
            "image/png": "[encoded data removed]"
          },
          "metadata": {}
        }
      ],
      "id": "d1c06371-0c43-4f84-87e5-616b517b656d"
    },
    {
      "cell_type": "markdown",
      "source": [
        "Conclusion: We can observe that actually, the relation between deaths and cases is very high,\n",
        "and this is because every certain amount of positive cases of covid 19, would be related\n",
        "with a possible death due to covid 19, that's why also we can observe the great amount of deaths due to certain amount of covid cases."
      ],
      "metadata": {
        "id": "94861ff6-76cf-4d7e-b1df-e1cf3ee09329"
      },
      "id": "94861ff6-76cf-4d7e-b1df-e1cf3ee09329"
    },
    {
      "cell_type": "markdown",
      "source": [
        "**Possible questions**\n",
        "1. What's the average of cases, deaths and hospitalizations due to covid 19?"
      ],
      "metadata": {
        "id": "82b3d060-33c6-442d-87f8-baa47e2f0092"
      },
      "id": "82b3d060-33c6-442d-87f8-baa47e2f0092"
    },
    {
      "cell_type": "code",
      "source": [
        "df[['CASE_COUNT','DEATH_COUNT','HOSPITALIZED_COUNT']].describe()"
      ],
      "metadata": {
        "trusted": true,
        "id": "fa170cfb-584e-40bd-bcb0-7e6731610d55",
        "outputId": "eae30764-6a1b-43cc-e673-0e745bc698e3",
        "colab": {
          "base_uri": "https://localhost:8080/",
          "height": 300
        }
      },
      "execution_count": 43,
      "outputs": [
        {
          "output_type": "execute_result",
          "data": {
            "text/plain": [
              "        CASE_COUNT  DEATH_COUNT  HOSPITALIZED_COUNT\n",
              "count    49.000000    49.000000           49.000000\n",
              "mean   2904.346939   224.489796          825.693878\n",
              "std    2144.742706   236.992978          649.621980\n",
              "min       0.000000     0.000000            1.000000\n",
              "25%     355.000000     0.000000          106.000000\n",
              "50%    3530.000000    95.000000          787.000000\n",
              "75%    4510.000000   498.000000         1422.000000\n",
              "max    6353.000000   598.000000         1850.000000"
            ],
            "text/html": [
              "\n",
              "  <div id=\"df-a6fac9d5-18cc-4e36-a361-55cc0d4e6534\">\n",
              "    <div class=\"colab-df-container\">\n",
              "      <div>\n",
              "<style scoped>\n",
              "    .dataframe tbody tr th:only-of-type {\n",
              "        vertical-align: middle;\n",
              "    }\n",
              "\n",
              "    .dataframe tbody tr th {\n",
              "        vertical-align: top;\n",
              "    }\n",
              "\n",
              "    .dataframe thead th {\n",
              "        text-align: right;\n",
              "    }\n",
              "</style>\n",
              "<table border=\"1\" class=\"dataframe\">\n",
              "  <thead>\n",
              "    <tr style=\"text-align: right;\">\n",
              "      <th></th>\n",
              "      <th>CASE_COUNT</th>\n",
              "      <th>DEATH_COUNT</th>\n",
              "      <th>HOSPITALIZED_COUNT</th>\n",
              "    </tr>\n",
              "  </thead>\n",
              "  <tbody>\n",
              "    <tr>\n",
              "      <th>count</th>\n",
              "      <td>49.000000</td>\n",
              "      <td>49.000000</td>\n",
              "      <td>49.000000</td>\n",
              "    </tr>\n",
              "    <tr>\n",
              "      <th>mean</th>\n",
              "      <td>2904.346939</td>\n",
              "      <td>224.489796</td>\n",
              "      <td>825.693878</td>\n",
              "    </tr>\n",
              "    <tr>\n",
              "      <th>std</th>\n",
              "      <td>2144.742706</td>\n",
              "      <td>236.992978</td>\n",
              "      <td>649.621980</td>\n",
              "    </tr>\n",
              "    <tr>\n",
              "      <th>min</th>\n",
              "      <td>0.000000</td>\n",
              "      <td>0.000000</td>\n",
              "      <td>1.000000</td>\n",
              "    </tr>\n",
              "    <tr>\n",
              "      <th>25%</th>\n",
              "      <td>355.000000</td>\n",
              "      <td>0.000000</td>\n",
              "      <td>106.000000</td>\n",
              "    </tr>\n",
              "    <tr>\n",
              "      <th>50%</th>\n",
              "      <td>3530.000000</td>\n",
              "      <td>95.000000</td>\n",
              "      <td>787.000000</td>\n",
              "    </tr>\n",
              "    <tr>\n",
              "      <th>75%</th>\n",
              "      <td>4510.000000</td>\n",
              "      <td>498.000000</td>\n",
              "      <td>1422.000000</td>\n",
              "    </tr>\n",
              "    <tr>\n",
              "      <th>max</th>\n",
              "      <td>6353.000000</td>\n",
              "      <td>598.000000</td>\n",
              "      <td>1850.000000</td>\n",
              "    </tr>\n",
              "  </tbody>\n",
              "</table>\n",
              "</div>\n",
              "      <button class=\"colab-df-convert\" onclick=\"convertToInteractive('df-a6fac9d5-18cc-4e36-a361-55cc0d4e6534')\"\n",
              "              title=\"Convert this dataframe to an interactive table.\"\n",
              "              style=\"display:none;\">\n",
              "        \n",
              "  <svg xmlns=\"http://www.w3.org/2000/svg\" height=\"24px\"viewBox=\"0 0 24 24\"\n",
              "       width=\"24px\">\n",
              "    <path d=\"M0 0h24v24H0V0z\" fill=\"none\"/>\n",
              "    <path d=\"M18.56 5.44l.94 2.06.94-2.06 2.06-.94-2.06-.94-.94-2.06-.94 2.06-2.06.94zm-11 1L8.5 8.5l.94-2.06 2.06-.94-2.06-.94L8.5 2.5l-.94 2.06-2.06.94zm10 10l.94 2.06.94-2.06 2.06-.94-2.06-.94-.94-2.06-.94 2.06-2.06.94z\"/><path d=\"M17.41 7.96l-1.37-1.37c-.4-.4-.92-.59-1.43-.59-.52 0-1.04.2-1.43.59L10.3 9.45l-7.72 7.72c-.78.78-.78 2.05 0 2.83L4 21.41c.39.39.9.59 1.41.59.51 0 1.02-.2 1.41-.59l7.78-7.78 2.81-2.81c.8-.78.8-2.07 0-2.86zM5.41 20L4 18.59l7.72-7.72 1.47 1.35L5.41 20z\"/>\n",
              "  </svg>\n",
              "      </button>\n",
              "      \n",
              "  <style>\n",
              "    .colab-df-container {\n",
              "      display:flex;\n",
              "      flex-wrap:wrap;\n",
              "      gap: 12px;\n",
              "    }\n",
              "\n",
              "    .colab-df-convert {\n",
              "      background-color: #E8F0FE;\n",
              "      border: none;\n",
              "      border-radius: 50%;\n",
              "      cursor: pointer;\n",
              "      display: none;\n",
              "      fill: #1967D2;\n",
              "      height: 32px;\n",
              "      padding: 0 0 0 0;\n",
              "      width: 32px;\n",
              "    }\n",
              "\n",
              "    .colab-df-convert:hover {\n",
              "      background-color: #E2EBFA;\n",
              "      box-shadow: 0px 1px 2px rgba(60, 64, 67, 0.3), 0px 1px 3px 1px rgba(60, 64, 67, 0.15);\n",
              "      fill: #174EA6;\n",
              "    }\n",
              "\n",
              "    [theme=dark] .colab-df-convert {\n",
              "      background-color: #3B4455;\n",
              "      fill: #D2E3FC;\n",
              "    }\n",
              "\n",
              "    [theme=dark] .colab-df-convert:hover {\n",
              "      background-color: #434B5C;\n",
              "      box-shadow: 0px 1px 3px 1px rgba(0, 0, 0, 0.15);\n",
              "      filter: drop-shadow(0px 1px 2px rgba(0, 0, 0, 0.3));\n",
              "      fill: #FFFFFF;\n",
              "    }\n",
              "  </style>\n",
              "\n",
              "      <script>\n",
              "        const buttonEl =\n",
              "          document.querySelector('#df-a6fac9d5-18cc-4e36-a361-55cc0d4e6534 button.colab-df-convert');\n",
              "        buttonEl.style.display =\n",
              "          google.colab.kernel.accessAllowed ? 'block' : 'none';\n",
              "\n",
              "        async function convertToInteractive(key) {\n",
              "          const element = document.querySelector('#df-a6fac9d5-18cc-4e36-a361-55cc0d4e6534');\n",
              "          const dataTable =\n",
              "            await google.colab.kernel.invokeFunction('convertToInteractive',\n",
              "                                                     [key], {});\n",
              "          if (!dataTable) return;\n",
              "\n",
              "          const docLinkHtml = 'Like what you see? Visit the ' +\n",
              "            '<a target=\"_blank\" href=https://colab.research.google.com/notebooks/data_table.ipynb>data table notebook</a>'\n",
              "            + ' to learn more about interactive tables.';\n",
              "          element.innerHTML = '';\n",
              "          dataTable['output_type'] = 'display_data';\n",
              "          await google.colab.output.renderOutput(dataTable, element);\n",
              "          const docLink = document.createElement('div');\n",
              "          docLink.innerHTML = docLinkHtml;\n",
              "          element.appendChild(docLink);\n",
              "        }\n",
              "      </script>\n",
              "    </div>\n",
              "  </div>\n",
              "  "
            ]
          },
          "metadata": {},
          "execution_count": 43
        }
      ],
      "id": "fa170cfb-584e-40bd-bcb0-7e6731610d55"
    },
    {
      "cell_type": "markdown",
      "source": [
        "Conclusion: the average of cases of covid 19 count daily in New York City is 2904.346939, of\n",
        "deaths due to covid 19 are 46.898769 and of hospitalizations are 825.693878"
      ],
      "metadata": {
        "id": "ef44fea3-ba5a-4a25-b4dd-1f861f11d13b"
      },
      "id": "ef44fea3-ba5a-4a25-b4dd-1f861f11d13b"
    },
    {
      "cell_type": "markdown",
      "source": [
        "2. How can we observe the amount of deaths that are caused by the different amount of\n",
        "positive cases of covid 19?"
      ],
      "metadata": {
        "id": "3134c41b-bd9c-4944-802a-9413545f3ae3"
      },
      "id": "3134c41b-bd9c-4944-802a-9413545f3ae3"
    },
    {
      "cell_type": "code",
      "source": [
        "pd.pivot_table(df,\n",
        "index = ['CASE_COUNT'],\n",
        "values = ['DEATH_COUNT'],\n",
        "margins = True\n",
        ")"
      ],
      "metadata": {
        "trusted": true,
        "id": "bbfa5b6a-6cd0-4adb-9635-e53672743d35",
        "outputId": "9d7a3cb4-2a0d-4298-d236-74622fd3ee5f",
        "colab": {
          "base_uri": "https://localhost:8080/",
          "height": 1000
        }
      },
      "execution_count": null,
      "outputs": [
        {
          "output_type": "execute_result",
          "data": {
            "text/plain": [
              "            DEATH_COUNT\n",
              "CASE_COUNT             \n",
              "0              0.000000\n",
              "1              0.000000\n",
              "3              0.000000\n",
              "5              0.000000\n",
              "7              0.000000\n",
              "8              0.000000\n",
              "21             0.000000\n",
              "57             0.000000\n",
              "69             0.000000\n",
              "155            1.000000\n",
              "355            0.000000\n",
              "619            0.000000\n",
              "642            2.000000\n",
              "1035           4.000000\n",
              "2121           8.000000\n",
              "2452           8.000000\n",
              "2580          49.000000\n",
              "2639          45.000000\n",
              "2888         573.000000\n",
              "2971          20.000000\n",
              "3311         567.000000\n",
              "3479         273.000000\n",
              "3530         413.000000\n",
              "3560         291.000000\n",
              "3570          82.000000\n",
              "3586         384.000000\n",
              "3706          24.000000\n",
              "3732         544.000000\n",
              "3780         578.000000\n",
              "3866         510.000000\n",
              "3876         455.000000\n",
              "4006          48.000000\n",
              "4144         507.000000\n",
              "4497          95.000000\n",
              "4510         537.000000\n",
              "4874         124.000000\n",
              "5044         186.000000\n",
              "5070         559.000000\n",
              "5119         218.000000\n",
              "5449         447.000000\n",
              "5458         386.000000\n",
              "5575         568.000000\n",
              "5670         499.000000\n",
              "5746         498.000000\n",
              "6044         598.000000\n",
              "6129         323.000000\n",
              "6353         576.000000\n",
              "All          224.489796"
            ],
            "text/html": [
              "\n",
              "  <div id=\"df-019fed3f-125a-4547-b1b0-c22153c6d834\">\n",
              "    <div class=\"colab-df-container\">\n",
              "      <div>\n",
              "<style scoped>\n",
              "    .dataframe tbody tr th:only-of-type {\n",
              "        vertical-align: middle;\n",
              "    }\n",
              "\n",
              "    .dataframe tbody tr th {\n",
              "        vertical-align: top;\n",
              "    }\n",
              "\n",
              "    .dataframe thead th {\n",
              "        text-align: right;\n",
              "    }\n",
              "</style>\n",
              "<table border=\"1\" class=\"dataframe\">\n",
              "  <thead>\n",
              "    <tr style=\"text-align: right;\">\n",
              "      <th></th>\n",
              "      <th>DEATH_COUNT</th>\n",
              "    </tr>\n",
              "    <tr>\n",
              "      <th>CASE_COUNT</th>\n",
              "      <th></th>\n",
              "    </tr>\n",
              "  </thead>\n",
              "  <tbody>\n",
              "    <tr>\n",
              "      <th>0</th>\n",
              "      <td>0.000000</td>\n",
              "    </tr>\n",
              "    <tr>\n",
              "      <th>1</th>\n",
              "      <td>0.000000</td>\n",
              "    </tr>\n",
              "    <tr>\n",
              "      <th>3</th>\n",
              "      <td>0.000000</td>\n",
              "    </tr>\n",
              "    <tr>\n",
              "      <th>5</th>\n",
              "      <td>0.000000</td>\n",
              "    </tr>\n",
              "    <tr>\n",
              "      <th>7</th>\n",
              "      <td>0.000000</td>\n",
              "    </tr>\n",
              "    <tr>\n",
              "      <th>8</th>\n",
              "      <td>0.000000</td>\n",
              "    </tr>\n",
              "    <tr>\n",
              "      <th>21</th>\n",
              "      <td>0.000000</td>\n",
              "    </tr>\n",
              "    <tr>\n",
              "      <th>57</th>\n",
              "      <td>0.000000</td>\n",
              "    </tr>\n",
              "    <tr>\n",
              "      <th>69</th>\n",
              "      <td>0.000000</td>\n",
              "    </tr>\n",
              "    <tr>\n",
              "      <th>155</th>\n",
              "      <td>1.000000</td>\n",
              "    </tr>\n",
              "    <tr>\n",
              "      <th>355</th>\n",
              "      <td>0.000000</td>\n",
              "    </tr>\n",
              "    <tr>\n",
              "      <th>619</th>\n",
              "      <td>0.000000</td>\n",
              "    </tr>\n",
              "    <tr>\n",
              "      <th>642</th>\n",
              "      <td>2.000000</td>\n",
              "    </tr>\n",
              "    <tr>\n",
              "      <th>1035</th>\n",
              "      <td>4.000000</td>\n",
              "    </tr>\n",
              "    <tr>\n",
              "      <th>2121</th>\n",
              "      <td>8.000000</td>\n",
              "    </tr>\n",
              "    <tr>\n",
              "      <th>2452</th>\n",
              "      <td>8.000000</td>\n",
              "    </tr>\n",
              "    <tr>\n",
              "      <th>2580</th>\n",
              "      <td>49.000000</td>\n",
              "    </tr>\n",
              "    <tr>\n",
              "      <th>2639</th>\n",
              "      <td>45.000000</td>\n",
              "    </tr>\n",
              "    <tr>\n",
              "      <th>2888</th>\n",
              "      <td>573.000000</td>\n",
              "    </tr>\n",
              "    <tr>\n",
              "      <th>2971</th>\n",
              "      <td>20.000000</td>\n",
              "    </tr>\n",
              "    <tr>\n",
              "      <th>3311</th>\n",
              "      <td>567.000000</td>\n",
              "    </tr>\n",
              "    <tr>\n",
              "      <th>3479</th>\n",
              "      <td>273.000000</td>\n",
              "    </tr>\n",
              "    <tr>\n",
              "      <th>3530</th>\n",
              "      <td>413.000000</td>\n",
              "    </tr>\n",
              "    <tr>\n",
              "      <th>3560</th>\n",
              "      <td>291.000000</td>\n",
              "    </tr>\n",
              "    <tr>\n",
              "      <th>3570</th>\n",
              "      <td>82.000000</td>\n",
              "    </tr>\n",
              "    <tr>\n",
              "      <th>3586</th>\n",
              "      <td>384.000000</td>\n",
              "    </tr>\n",
              "    <tr>\n",
              "      <th>3706</th>\n",
              "      <td>24.000000</td>\n",
              "    </tr>\n",
              "    <tr>\n",
              "      <th>3732</th>\n",
              "      <td>544.000000</td>\n",
              "    </tr>\n",
              "    <tr>\n",
              "      <th>3780</th>\n",
              "      <td>578.000000</td>\n",
              "    </tr>\n",
              "    <tr>\n",
              "      <th>3866</th>\n",
              "      <td>510.000000</td>\n",
              "    </tr>\n",
              "    <tr>\n",
              "      <th>3876</th>\n",
              "      <td>455.000000</td>\n",
              "    </tr>\n",
              "    <tr>\n",
              "      <th>4006</th>\n",
              "      <td>48.000000</td>\n",
              "    </tr>\n",
              "    <tr>\n",
              "      <th>4144</th>\n",
              "      <td>507.000000</td>\n",
              "    </tr>\n",
              "    <tr>\n",
              "      <th>4497</th>\n",
              "      <td>95.000000</td>\n",
              "    </tr>\n",
              "    <tr>\n",
              "      <th>4510</th>\n",
              "      <td>537.000000</td>\n",
              "    </tr>\n",
              "    <tr>\n",
              "      <th>4874</th>\n",
              "      <td>124.000000</td>\n",
              "    </tr>\n",
              "    <tr>\n",
              "      <th>5044</th>\n",
              "      <td>186.000000</td>\n",
              "    </tr>\n",
              "    <tr>\n",
              "      <th>5070</th>\n",
              "      <td>559.000000</td>\n",
              "    </tr>\n",
              "    <tr>\n",
              "      <th>5119</th>\n",
              "      <td>218.000000</td>\n",
              "    </tr>\n",
              "    <tr>\n",
              "      <th>5449</th>\n",
              "      <td>447.000000</td>\n",
              "    </tr>\n",
              "    <tr>\n",
              "      <th>5458</th>\n",
              "      <td>386.000000</td>\n",
              "    </tr>\n",
              "    <tr>\n",
              "      <th>5575</th>\n",
              "      <td>568.000000</td>\n",
              "    </tr>\n",
              "    <tr>\n",
              "      <th>5670</th>\n",
              "      <td>499.000000</td>\n",
              "    </tr>\n",
              "    <tr>\n",
              "      <th>5746</th>\n",
              "      <td>498.000000</td>\n",
              "    </tr>\n",
              "    <tr>\n",
              "      <th>6044</th>\n",
              "      <td>598.000000</td>\n",
              "    </tr>\n",
              "    <tr>\n",
              "      <th>6129</th>\n",
              "      <td>323.000000</td>\n",
              "    </tr>\n",
              "    <tr>\n",
              "      <th>6353</th>\n",
              "      <td>576.000000</td>\n",
              "    </tr>\n",
              "    <tr>\n",
              "      <th>All</th>\n",
              "      <td>224.489796</td>\n",
              "    </tr>\n",
              "  </tbody>\n",
              "</table>\n",
              "</div>\n",
              "      <button class=\"colab-df-convert\" onclick=\"convertToInteractive('df-019fed3f-125a-4547-b1b0-c22153c6d834')\"\n",
              "              title=\"Convert this dataframe to an interactive table.\"\n",
              "              style=\"display:none;\">\n",
              "        \n",
              "  <svg xmlns=\"http://www.w3.org/2000/svg\" height=\"24px\"viewBox=\"0 0 24 24\"\n",
              "       width=\"24px\">\n",
              "    <path d=\"M0 0h24v24H0V0z\" fill=\"none\"/>\n",
              "    <path d=\"M18.56 5.44l.94 2.06.94-2.06 2.06-.94-2.06-.94-.94-2.06-.94 2.06-2.06.94zm-11 1L8.5 8.5l.94-2.06 2.06-.94-2.06-.94L8.5 2.5l-.94 2.06-2.06.94zm10 10l.94 2.06.94-2.06 2.06-.94-2.06-.94-.94-2.06-.94 2.06-2.06.94z\"/><path d=\"M17.41 7.96l-1.37-1.37c-.4-.4-.92-.59-1.43-.59-.52 0-1.04.2-1.43.59L10.3 9.45l-7.72 7.72c-.78.78-.78 2.05 0 2.83L4 21.41c.39.39.9.59 1.41.59.51 0 1.02-.2 1.41-.59l7.78-7.78 2.81-2.81c.8-.78.8-2.07 0-2.86zM5.41 20L4 18.59l7.72-7.72 1.47 1.35L5.41 20z\"/>\n",
              "  </svg>\n",
              "      </button>\n",
              "      \n",
              "  <style>\n",
              "    .colab-df-container {\n",
              "      display:flex;\n",
              "      flex-wrap:wrap;\n",
              "      gap: 12px;\n",
              "    }\n",
              "\n",
              "    .colab-df-convert {\n",
              "      background-color: #E8F0FE;\n",
              "      border: none;\n",
              "      border-radius: 50%;\n",
              "      cursor: pointer;\n",
              "      display: none;\n",
              "      fill: #1967D2;\n",
              "      height: 32px;\n",
              "      padding: 0 0 0 0;\n",
              "      width: 32px;\n",
              "    }\n",
              "\n",
              "    .colab-df-convert:hover {\n",
              "      background-color: #E2EBFA;\n",
              "      box-shadow: 0px 1px 2px rgba(60, 64, 67, 0.3), 0px 1px 3px 1px rgba(60, 64, 67, 0.15);\n",
              "      fill: #174EA6;\n",
              "    }\n",
              "\n",
              "    [theme=dark] .colab-df-convert {\n",
              "      background-color: #3B4455;\n",
              "      fill: #D2E3FC;\n",
              "    }\n",
              "\n",
              "    [theme=dark] .colab-df-convert:hover {\n",
              "      background-color: #434B5C;\n",
              "      box-shadow: 0px 1px 3px 1px rgba(0, 0, 0, 0.15);\n",
              "      filter: drop-shadow(0px 1px 2px rgba(0, 0, 0, 0.3));\n",
              "      fill: #FFFFFF;\n",
              "    }\n",
              "  </style>\n",
              "\n",
              "      <script>\n",
              "        const buttonEl =\n",
              "          document.querySelector('#df-019fed3f-125a-4547-b1b0-c22153c6d834 button.colab-df-convert');\n",
              "        buttonEl.style.display =\n",
              "          google.colab.kernel.accessAllowed ? 'block' : 'none';\n",
              "\n",
              "        async function convertToInteractive(key) {\n",
              "          const element = document.querySelector('#df-019fed3f-125a-4547-b1b0-c22153c6d834');\n",
              "          const dataTable =\n",
              "            await google.colab.kernel.invokeFunction('convertToInteractive',\n",
              "                                                     [key], {});\n",
              "          if (!dataTable) return;\n",
              "\n",
              "          const docLinkHtml = 'Like what you see? Visit the ' +\n",
              "            '<a target=\"_blank\" href=https://colab.research.google.com/notebooks/data_table.ipynb>data table notebook</a>'\n",
              "            + ' to learn more about interactive tables.';\n",
              "          element.innerHTML = '';\n",
              "          dataTable['output_type'] = 'display_data';\n",
              "          await google.colab.output.renderOutput(dataTable, element);\n",
              "          const docLink = document.createElement('div');\n",
              "          docLink.innerHTML = docLinkHtml;\n",
              "          element.appendChild(docLink);\n",
              "        }\n",
              "      </script>\n",
              "    </div>\n",
              "  </div>\n",
              "  "
            ]
          },
          "metadata": {},
          "execution_count": 37
        }
      ],
      "id": "bbfa5b6a-6cd0-4adb-9635-e53672743d35"
    },
    {
      "cell_type": "markdown",
      "source": [
        "Conclusion: actually, we can observe how each day that reach a certain quantity of positve\n",
        "cases an amount of deaths due to covid 19 per day just in New York City, we can observe and\n",
        "prove how the medical assistance there is pretty good, because even when they reach a high\n",
        "amount of cases, they stayed on a very low amount of deaths.\n",
        "\n",
        "3. Is there any atypical value within the amount of cases per day?"
      ],
      "metadata": {
        "id": "20a6e8ed-94ce-49af-9657-80b695ef50ff"
      },
      "id": "20a6e8ed-94ce-49af-9657-80b695ef50ff"
    },
    {
      "cell_type": "code",
      "source": [
        "x = df.loc[:, 'CASE_COUNT']\n",
        "plt.style.use('Solarize_Light2')\n",
        "plt.xticks(fontsize = 15, rotation = 45)\n",
        "plt.ylabel('Cases', fontsize = 15)\n",
        "plt.yticks(fontsize = 15)\n",
        "plt.title('Count of cases', fontsize = 15)\n",
        "plt.boxplot(x)"
      ],
      "metadata": {
        "trusted": true,
        "colab": {
          "base_uri": "https://localhost:8080/",
          "height": 430
        },
        "id": "01ba04ee-b17e-43d1-ab34-ec605c5ac3cc",
        "outputId": "b447371b-4448-42ea-deb0-8dc779e541d2"
      },
      "execution_count": null,
      "outputs": [
        {
          "output_type": "execute_result",
          "data": {
            "text/plain": [
              "{'boxes': [<matplotlib.lines.Line2D at 0x7f4083648e90>],\n",
              " 'caps': [<matplotlib.lines.Line2D at 0x7f4083631510>,\n",
              "  <matplotlib.lines.Line2D at 0x7f40836531d0>],\n",
              " 'fliers': [<matplotlib.lines.Line2D at 0x7f4083653c90>],\n",
              " 'means': [],\n",
              " 'medians': [<matplotlib.lines.Line2D at 0x7f4083653750>],\n",
              " 'whiskers': [<matplotlib.lines.Line2D at 0x7f4083641750>,\n",
              "  <matplotlib.lines.Line2D at 0x7f4083639ad0>]}"
            ]
          },
          "metadata": {},
          "execution_count": 38
        },
        {
          "output_type": "display_data",
          "data": {
            "text/plain": [
              "<Figure size 432x288 with 1 Axes>"
            ],
            "image/png": "[encoded data removed]"
          },
          "metadata": {}
        }
      ],
      "id": "01ba04ee-b17e-43d1-ab34-ec605c5ac3cc"
    },
    {
      "cell_type": "code",
      "source": [
        "df['CASE_COUNT'].describe()"
      ],
      "metadata": {
        "trusted": true,
        "id": "6d42d117-97c5-41fd-bb10-d36aba03064b",
        "outputId": "30504bf2-19b5-4af4-d2c6-6be4ddd3d627",
        "colab": {
          "base_uri": "https://localhost:8080/"
        }
      },
      "execution_count": null,
      "outputs": [
        {
          "output_type": "execute_result",
          "data": {
            "text/plain": [
              "count      49.000000\n",
              "mean     2904.346939\n",
              "std      2144.742706\n",
              "min         0.000000\n",
              "25%       355.000000\n",
              "50%      3530.000000\n",
              "75%      4510.000000\n",
              "max      6353.000000\n",
              "Name: CASE_COUNT, dtype: float64"
            ]
          },
          "metadata": {},
          "execution_count": 39
        }
      ],
      "id": "6d42d117-97c5-41fd-bb10-d36aba03064b"
    },
    {
      "cell_type": "markdown",
      "source": [
        "Conclusion: we can't say that there's an atypical value in this dataset, so we can inffer that the amount of covid cases per day in that time in NYC were on a normal scale for them."
      ],
      "metadata": {
        "id": "bd501905-b9ed-4b72-9d01-24cefa095d33"
      },
      "id": "bd501905-b9ed-4b72-9d01-24cefa095d33"
    },
    {
      "cell_type": "markdown",
      "source": [
        "4. Of the 50 day counted cases per day, how was the distribution of the positive covid cases per day?"
      ],
      "metadata": {
        "id": "cdf95936-e5d2-41f3-95f0-87894e040bed"
      },
      "id": "cdf95936-e5d2-41f3-95f0-87894e040bed"
    },
    {
      "cell_type": "code",
      "source": [
        "g = sns.catplot(x = 'case_counts',\n",
        "                kind = 'count',\n",
        "                data = df,\n",
        "                hue = 'case_counts',\n",
        "                order = plot_order,\n",
        "                height = 5,\n",
        "                aspect = 1.5,\n",
        "                color = 'coral'\n",
        "                )"
      ],
      "metadata": {
        "trusted": true,
        "colab": {
          "base_uri": "https://localhost:8080/",
          "height": 369
        },
        "id": "31ceed3b-9483-4ec7-b63e-32224935fd8e",
        "outputId": "78c9057c-9ac7-4a1c-844a-5934bf9c8c0f"
      },
      "execution_count": null,
      "outputs": [
        {
          "output_type": "display_data",
          "data": {
            "text/plain": [
              "<Figure size 540x360 with 1 Axes>"
            ],
            "image/png": "[encoded data removed]"
          },
          "metadata": {}
        }
      ],
      "id": "31ceed3b-9483-4ec7-b63e-32224935fd8e"
    },
    {
      "cell_type": "markdown",
      "source": [
        "Conclusion: We can observe that the values we're reffering to is on a normal scale, and actually there is a great amount of people dying because of covid 19."
      ],
      "metadata": {
        "id": "baca89e4-f5b6-4805-9e97-aa2017e7b2c8"
      },
      "id": "baca89e4-f5b6-4805-9e97-aa2017e7b2c8"
    },
    {
      "cell_type": "markdown",
      "source": [
        "5. How's the relationship between cases of death and positive covid cases?"
      ],
      "metadata": {
        "id": "ad8731b5-57f9-47af-a4f4-e91daa80fd0e"
      },
      "id": "ad8731b5-57f9-47af-a4f4-e91daa80fd0e"
    },
    {
      "cell_type": "code",
      "source": [
        "plt.figure(figsize = (15,10))\n",
        "sns.set(font_scale = 1.5)\n",
        "ax = sns.regplot(x = 'CASE_COUNT',\n",
        "                y = 'DEATH_COUNT',\n",
        "                data = df, \n",
        "                color = 'purple',\n",
        "                 marker = '+',\n",
        "                 scatter_kws = {'s':200}\n",
        "                )\n",
        "\n",
        "ax.set(xlabel = 'CASE_COUNT',\n",
        "      ylabel = 'DEATH_COUNT')\n",
        "\n",
        "ax.text(0, 350, 'Death_counts = b0 + b1 * case_counts',\n",
        "       horizontalalignment = 'left', size = 'medium', color = 'navy',\n",
        "       weight = 'semibold')\n",
        "\n",
        "ax.set_title('Regression plot of CASE_COUNT vs DEATH_COUNT')"
      ],
      "metadata": {
        "trusted": true,
        "id": "7828d0cd-b514-4167-b71d-924e0817f7de",
        "outputId": "6506330e-f172-4bde-9b7d-5416e5c0de33",
        "colab": {
          "base_uri": "https://localhost:8080/",
          "height": 661
        }
      },
      "execution_count": 54,
      "outputs": [
        {
          "output_type": "execute_result",
          "data": {
            "text/plain": [
              "Text(0.5, 1.0, 'Regression plot of CASE_COUNT vs DEATH_COUNT')"
            ]
          },
          "metadata": {},
          "execution_count": 54
        },
        {
          "output_type": "display_data",
          "data": {
            "text/plain": [
              "<Figure size 1080x720 with 1 Axes>"
            ],
            "image/png": "[encoded data removed]"
          },
          "metadata": {}
        }
      ],
      "id": "7828d0cd-b514-4167-b71d-924e0817f7de"
    },
    {
      "cell_type": "markdown",
      "source": [
        "Conclusion: We can observe that there is no real relationship between the case count and the death count, we can visualize that or know it by the orientation of the data. The reason of this is because there are a lot of more possible reasons in which a person dies."
      ],
      "metadata": {
        "id": "158e184c-6e2d-4a46-a24b-00759879a5a7"
      },
      "id": "158e184c-6e2d-4a46-a24b-00759879a5a7"
    },
    {
      "cell_type": "markdown",
      "source": [
        "6. If we made a prediction of the possible future deaths with a linear model, would the case count be the only variable to predict this value?"
      ],
      "metadata": {
        "id": "af54ab7c-878a-4f0e-bb5b-c6b2865def05"
      },
      "id": "af54ab7c-878a-4f0e-bb5b-c6b2865def05"
    },
    {
      "cell_type": "code",
      "source": [
        "print('The y intercept, b0 = ', model_lm.intercept_)\n",
        "print('The coeff. of Age, b1 = ', model_lm.coef_)\n",
        "print('The R^2 value is = ', model_lm.score(x,y))"
      ],
      "metadata": {
        "trusted": true,
        "id": "9f805897-4145-411d-999e-1d096b9dbc17",
        "outputId": "bf1e9f1f-e32f-41cf-c481-a0dcc454bc5e",
        "colab": {
          "base_uri": "https://localhost:8080/",
          "height": 0
        }
      },
      "execution_count": 55,
      "outputs": [
        {
          "output_type": "stream",
          "name": "stdout",
          "text": [
            "The y intercept, b0 =  [-17.17448209]\n",
            "The coeff. of Age, b1 =  [[0.08320779]]\n",
            "The R^2 value is =  0.567031743378003\n"
          ]
        }
      ],
      "id": "9f805897-4145-411d-999e-1d096b9dbc17"
    },
    {
      "cell_type": "markdown",
      "source": [
        "We can observe that this model won't be a good model because it may depend on some other factors. The reason why I can support this is because of the R^2 because its value is 0.56, so actually is notthat high as the one that we're looking for."
      ],
      "metadata": {
        "id": "0e58694a-2191-4b56-878e-9c0ecea54f21"
      },
      "id": "0e58694a-2191-4b56-878e-9c0ecea54f21"
    },
    {
      "cell_type": "markdown",
      "source": [
        "Graph of the predicted values and its relation with the predicted model."
      ],
      "metadata": {
        "id": "14Qy_mSYP0GZ"
      },
      "id": "14Qy_mSYP0GZ"
    },
    {
      "cell_type": "code",
      "source": [
        "plt.figure(figsize = (10,15))\n",
        "sns.set(font_scale = 1.5)\n",
        "ax = sns.regplot(x = predicted_values,\n",
        "                y = RESI_A,\n",
        "                data = df, \n",
        "                color = 'purple',\n",
        "                 marker = '+',\n",
        "                 scatter_kws = {'s':200}\n",
        "                )\n",
        "\n",
        "ax.set(xlabel = 'Predicted values',\n",
        "      ylabel = 'Residuals')\n",
        "\n",
        "ax.text(350, 350, 'salary = b0 + b1 * age',\n",
        "       horizontalalignment = 'left', size = 'medium', color = 'skyblue',\n",
        "       weight = 'semibold')\n",
        "\n",
        "ax.set_title('Residual plot of Death Cases vs Cases Count')\n",
        "plt.show()"
      ],
      "metadata": {
        "trusted": true,
        "colab": {
          "base_uri": "https://localhost:8080/",
          "height": 916
        },
        "id": "92d9a87f-d6b0-4642-a354-7bb3a5bf8617",
        "outputId": "824acc93-4351-4652-bb92-8672953c7e0c"
      },
      "execution_count": 56,
      "outputs": [
        {
          "output_type": "display_data",
          "data": {
            "text/plain": [
              "<Figure size 720x1080 with 1 Axes>"
            ],
            "image/png": "[encoded data removed]"
          },
          "metadata": {}
        }
      ],
      "id": "92d9a87f-d6b0-4642-a354-7bb3a5bf8617"
    },
    {
      "cell_type": "markdown",
      "source": [
        "Conclusion: we can observe that actually, we just standarized the results, but it won't change that this model it's not that precise. We can observe the real values that are out of the predicted model."
      ],
      "metadata": {
        "id": "4e2f3346-69c3-404c-8ff3-8055d03c8c84"
      },
      "id": "4e2f3346-69c3-404c-8ff3-8055d03c8c84"
    },
    {
      "cell_type": "markdown",
      "source": [
        "7. From the groups of covid cases, how many different death cases composed the daily covid cases?\n",
        "\n",
        "1.   Elemento de la lista\n",
        "2.   Elemento de la lista\n",
        "\n"
      ],
      "metadata": {
        "id": "yYbHxkBNV-nP"
      },
      "id": "yYbHxkBNV-nP"
    },
    {
      "cell_type": "code",
      "source": [
        "fig = px.sunburst(d_date,\n",
        "                values = 'DEATH_COUNT',\n",
        "                path = ['case_counts','DEATH_COUNT'],\n",
        "                color = 'case_counts',\n",
        "                title = 'Grouping amount of deaths by covid cases'\n",
        "                )\n",
        "plt.savefig('sample_data/age_groupSun.png')\n",
        "fig.show()"
      ],
      "metadata": {
        "colab": {
          "base_uri": "https://localhost:8080/",
          "height": 559
        },
        "id": "UsJeN4TJpbrg",
        "outputId": "c68efa9e-7207-4ce4-b0c7-63645eda8178"
      },
      "id": "UsJeN4TJpbrg",
      "execution_count": 62,
      "outputs": [
        {
          "output_type": "display_data",
          "data": {
            "text/html": [
              "<html>\n",
              "<head><meta charset=\"utf-8\" /></head>\n",
              "<body>\n",
              "    <div>            <script src=\"https://cdnjs.cloudflare.com/ajax/libs/mathjax/2.7.5/MathJax.js?config=TeX-AMS-MML_SVG\"></script><script type=\"text/javascript\">if (window.MathJax) {MathJax.Hub.Config({SVG: {font: \"STIX-Web\"}});}</script>                <script type=\"text/javascript\">window.PlotlyConfig = {MathJaxConfig: 'local'};</script>\n",
              "        <script src=\"https://cdn.plot.ly/plotly-2.8.3.min.js\"></script>                <div id=\"eec67b52-5026-473f-9581-53e80de7c5ae\" class=\"plotly-graph-div\" style=\"height:525px; width:100%;\"></div>            <script type=\"text/javascript\">                                    window.PLOTLYENV=window.PLOTLYENV || {};                                    if (document.getElementById(\"eec67b52-5026-473f-9581-53e80de7c5ae\")) {                    Plotly.newPlot(                        \"eec67b52-5026-473f-9581-53e80de7c5ae\",                        [{\"branchvalues\":\"total\",\"customdata\":[[\"<= 120\"],[\"<= 120\"],[\"<= 120\"],[\"121 - 230\"],[\"<= 120\"],[\"<= 120\"],[\"<= 120\"],[\"<= 120\"],[\"<= 120\"],[\"<= 120\"],[\"<= 120\"],[\"<= 120\"],[\"<= 120\"],[\"231 - 500\"],[\"231 - 500\"],[\"231 - 500\"],[\"231 - 500\"],[\"231 - 500\"],[\"231 - 500\"],[\"231 - 500\"],[\"231 - 500\"],[\"231 - 500\"],[\"231 - 500\"],[\"121 - 230\"],[\"121 - 230\"],[\"> 500\"],[\"> 500\"],[\"> 500\"],[\"> 500\"],[\"> 500\"],[\"> 500\"],[\"> 500\"],[\"> 500\"],[\"> 500\"],[\"> 500\"],[\"> 500\"],[\"All\"],[\"121 - 230\"],[\"231 - 500\"],[\"<= 120\"],[\"> 500\"],[\"All\"]],\"domain\":{\"x\":[0.0,1.0],\"y\":[0.0,1.0]},\"hovertemplate\":\"labels=%{label}<br>DEATH_COUNT=%{value}<br>parent=%{parent}<br>id=%{id}<br>case_counts=%{customdata[0]}<extra></extra>\",\"ids\":[\"<= 120/0\",\"<= 120/1\",\"<= 120/2\",\"121 - 230/124\",\"<= 120/95\",\"<= 120/82\",\"<= 120/48\",\"<= 120/49\",\"<= 120/24\",\"<= 120/20\",\"<= 120/8\",\"<= 120/4\",\"<= 120/45\",\"231 - 500/413\",\"231 - 500/499\",\"231 - 500/498\",\"231 - 500/455\",\"231 - 500/447\",\"231 - 500/386\",\"231 - 500/384\",\"231 - 500/323\",\"231 - 500/291\",\"231 - 500/273\",\"121 - 230/218\",\"121 - 230/186\",\"> 500/578\",\"> 500/576\",\"> 500/573\",\"> 500/568\",\"> 500/567\",\"> 500/544\",\"> 500/598\",\"> 500/537\",\"> 500/510\",\"> 500/507\",\"> 500/559\",\"All/\",\"121 - 230\",\"231 - 500\",\"<= 120\",\"> 500\",\"All\"],\"labels\":[\"0\",\"1\",\"2\",\"124\",\"95\",\"82\",\"48\",\"49\",\"24\",\"20\",\"8\",\"4\",\"45\",\"413\",\"499\",\"498\",\"455\",\"447\",\"386\",\"384\",\"323\",\"291\",\"273\",\"218\",\"186\",\"578\",\"576\",\"573\",\"568\",\"567\",\"544\",\"598\",\"537\",\"510\",\"507\",\"559\",\"\",\"121 - 230\",\"231 - 500\",\"<= 120\",\"> 500\",\"All\"],\"marker\":{\"colors\":[\"#636efa\",\"#636efa\",\"#636efa\",\"#EF553B\",\"#636efa\",\"#636efa\",\"#636efa\",\"#636efa\",\"#636efa\",\"#636efa\",\"#636efa\",\"#636efa\",\"#636efa\",\"#00cc96\",\"#00cc96\",\"#00cc96\",\"#00cc96\",\"#00cc96\",\"#00cc96\",\"#00cc96\",\"#00cc96\",\"#00cc96\",\"#00cc96\",\"#EF553B\",\"#EF553B\",\"#ab63fa\",\"#ab63fa\",\"#ab63fa\",\"#ab63fa\",\"#ab63fa\",\"#ab63fa\",\"#ab63fa\",\"#ab63fa\",\"#ab63fa\",\"#ab63fa\",\"#ab63fa\",\"#FFA15A\",\"#EF553B\",\"#00cc96\",\"#636efa\",\"#ab63fa\",\"#FFA15A\"]},\"name\":\"\",\"parents\":[\"<= 120\",\"<= 120\",\"<= 120\",\"121 - 230\",\"<= 120\",\"<= 120\",\"<= 120\",\"<= 120\",\"<= 120\",\"<= 120\",\"<= 120\",\"<= 120\",\"<= 120\",\"231 - 500\",\"231 - 500\",\"231 - 500\",\"231 - 500\",\"231 - 500\",\"231 - 500\",\"231 - 500\",\"231 - 500\",\"231 - 500\",\"231 - 500\",\"121 - 230\",\"121 - 230\",\"> 500\",\"> 500\",\"> 500\",\"> 500\",\"> 500\",\"> 500\",\"> 500\",\"> 500\",\"> 500\",\"> 500\",\"> 500\",\"All\",\"\",\"\",\"\",\"\",\"\"],\"values\":[0.0,1.0,2.0,124.0,95.0,82.0,48.0,49.0,24.0,20.0,8.0,4.0,45.0,413.0,499.0,498.0,455.0,447.0,386.0,384.0,323.0,291.0,273.0,218.0,186.0,578.0,576.0,573.0,568.0,567.0,544.0,598.0,537.0,510.0,507.0,559.0,0.0,528.0,3969.0,378.0,6117.0,0.0],\"type\":\"sunburst\"}],                        {\"template\":{\"data\":{\"bar\":[{\"error_x\":{\"color\":\"#2a3f5f\"},\"error_y\":{\"color\":\"#2a3f5f\"},\"marker\":{\"line\":{\"color\":\"#E5ECF6\",\"width\":0.5},\"pattern\":{\"fillmode\":\"overlay\",\"size\":10,\"solidity\":0.2}},\"type\":\"bar\"}],\"barpolar\":[{\"marker\":{\"line\":{\"color\":\"#E5ECF6\",\"width\":0.5},\"pattern\":{\"fillmode\":\"overlay\",\"size\":10,\"solidity\":0.2}},\"type\":\"barpolar\"}],\"carpet\":[{\"aaxis\":{\"endlinecolor\":\"#2a3f5f\",\"gridcolor\":\"white\",\"linecolor\":\"white\",\"minorgridcolor\":\"white\",\"startlinecolor\":\"#2a3f5f\"},\"baxis\":{\"endlinecolor\":\"#2a3f5f\",\"gridcolor\":\"white\",\"linecolor\":\"white\",\"minorgridcolor\":\"white\",\"startlinecolor\":\"#2a3f5f\"},\"type\":\"carpet\"}],\"choropleth\":[{\"colorbar\":{\"outlinewidth\":0,\"ticks\":\"\"},\"type\":\"choropleth\"}],\"contour\":[{\"colorbar\":{\"outlinewidth\":0,\"ticks\":\"\"},\"colorscale\":[[0.0,\"#0d0887\"],[0.1111111111111111,\"#46039f\"],[0.2222222222222222,\"#7201a8\"],[0.3333333333333333,\"#9c179e\"],[0.4444444444444444,\"#bd3786\"],[0.5555555555555556,\"#d8576b\"],[0.6666666666666666,\"#ed7953\"],[0.7777777777777778,\"#fb9f3a\"],[0.8888888888888888,\"#fdca26\"],[1.0,\"#f0f921\"]],\"type\":\"contour\"}],\"contourcarpet\":[{\"colorbar\":{\"outlinewidth\":0,\"ticks\":\"\"},\"type\":\"contourcarpet\"}],\"heatmap\":[{\"colorbar\":{\"outlinewidth\":0,\"ticks\":\"\"},\"colorscale\":[[0.0,\"#0d0887\"],[0.1111111111111111,\"#46039f\"],[0.2222222222222222,\"#7201a8\"],[0.3333333333333333,\"#9c179e\"],[0.4444444444444444,\"#bd3786\"],[0.5555555555555556,\"#d8576b\"],[0.6666666666666666,\"#ed7953\"],[0.7777777777777778,\"#fb9f3a\"],[0.8888888888888888,\"#fdca26\"],[1.0,\"#f0f921\"]],\"type\":\"heatmap\"}],\"heatmapgl\":[{\"colorbar\":{\"outlinewidth\":0,\"ticks\":\"\"},\"colorscale\":[[0.0,\"#0d0887\"],[0.1111111111111111,\"#46039f\"],[0.2222222222222222,\"#7201a8\"],[0.3333333333333333,\"#9c179e\"],[0.4444444444444444,\"#bd3786\"],[0.5555555555555556,\"#d8576b\"],[0.6666666666666666,\"#ed7953\"],[0.7777777777777778,\"#fb9f3a\"],[0.8888888888888888,\"#fdca26\"],[1.0,\"#f0f921\"]],\"type\":\"heatmapgl\"}],\"histogram\":[{\"marker\":{\"pattern\":{\"fillmode\":\"overlay\",\"size\":10,\"solidity\":0.2}},\"type\":\"histogram\"}],\"histogram2d\":[{\"colorbar\":{\"outlinewidth\":0,\"ticks\":\"\"},\"colorscale\":[[0.0,\"#0d0887\"],[0.1111111111111111,\"#46039f\"],[0.2222222222222222,\"#7201a8\"],[0.3333333333333333,\"#9c179e\"],[0.4444444444444444,\"#bd3786\"],[0.5555555555555556,\"#d8576b\"],[0.6666666666666666,\"#ed7953\"],[0.7777777777777778,\"#fb9f3a\"],[0.8888888888888888,\"#fdca26\"],[1.0,\"#f0f921\"]],\"type\":\"histogram2d\"}],\"histogram2dcontour\":[{\"colorbar\":{\"outlinewidth\":0,\"ticks\":\"\"},\"colorscale\":[[0.0,\"#0d0887\"],[0.1111111111111111,\"#46039f\"],[0.2222222222222222,\"#7201a8\"],[0.3333333333333333,\"#9c179e\"],[0.4444444444444444,\"#bd3786\"],[0.5555555555555556,\"#d8576b\"],[0.6666666666666666,\"#ed7953\"],[0.7777777777777778,\"#fb9f3a\"],[0.8888888888888888,\"#fdca26\"],[1.0,\"#f0f921\"]],\"type\":\"histogram2dcontour\"}],\"mesh3d\":[{\"colorbar\":{\"outlinewidth\":0,\"ticks\":\"\"},\"type\":\"mesh3d\"}],\"parcoords\":[{\"line\":{\"colorbar\":{\"outlinewidth\":0,\"ticks\":\"\"}},\"type\":\"parcoords\"}],\"pie\":[{\"automargin\":true,\"type\":\"pie\"}],\"scatter\":[{\"marker\":{\"colorbar\":{\"outlinewidth\":0,\"ticks\":\"\"}},\"type\":\"scatter\"}],\"scatter3d\":[{\"line\":{\"colorbar\":{\"outlinewidth\":0,\"ticks\":\"\"}},\"marker\":{\"colorbar\":{\"outlinewidth\":0,\"ticks\":\"\"}},\"type\":\"scatter3d\"}],\"scattercarpet\":[{\"marker\":{\"colorbar\":{\"outlinewidth\":0,\"ticks\":\"\"}},\"type\":\"scattercarpet\"}],\"scattergeo\":[{\"marker\":{\"colorbar\":{\"outlinewidth\":0,\"ticks\":\"\"}},\"type\":\"scattergeo\"}],\"scattergl\":[{\"marker\":{\"colorbar\":{\"outlinewidth\":0,\"ticks\":\"\"}},\"type\":\"scattergl\"}],\"scattermapbox\":[{\"marker\":{\"colorbar\":{\"outlinewidth\":0,\"ticks\":\"\"}},\"type\":\"scattermapbox\"}],\"scatterpolar\":[{\"marker\":{\"colorbar\":{\"outlinewidth\":0,\"ticks\":\"\"}},\"type\":\"scatterpolar\"}],\"scatterpolargl\":[{\"marker\":{\"colorbar\":{\"outlinewidth\":0,\"ticks\":\"\"}},\"type\":\"scatterpolargl\"}],\"scatterternary\":[{\"marker\":{\"colorbar\":{\"outlinewidth\":0,\"ticks\":\"\"}},\"type\":\"scatterternary\"}],\"surface\":[{\"colorbar\":{\"outlinewidth\":0,\"ticks\":\"\"},\"colorscale\":[[0.0,\"#0d0887\"],[0.1111111111111111,\"#46039f\"],[0.2222222222222222,\"#7201a8\"],[0.3333333333333333,\"#9c179e\"],[0.4444444444444444,\"#bd3786\"],[0.5555555555555556,\"#d8576b\"],[0.6666666666666666,\"#ed7953\"],[0.7777777777777778,\"#fb9f3a\"],[0.8888888888888888,\"#fdca26\"],[1.0,\"#f0f921\"]],\"type\":\"surface\"}],\"table\":[{\"cells\":{\"fill\":{\"color\":\"#EBF0F8\"},\"line\":{\"color\":\"white\"}},\"header\":{\"fill\":{\"color\":\"#C8D4E3\"},\"line\":{\"color\":\"white\"}},\"type\":\"table\"}]},\"layout\":{\"annotationdefaults\":{\"arrowcolor\":\"#2a3f5f\",\"arrowhead\":0,\"arrowwidth\":1},\"autotypenumbers\":\"strict\",\"coloraxis\":{\"colorbar\":{\"outlinewidth\":0,\"ticks\":\"\"}},\"colorscale\":{\"diverging\":[[0,\"#8e0152\"],[0.1,\"#c51b7d\"],[0.2,\"#de77ae\"],[0.3,\"#f1b6da\"],[0.4,\"#fde0ef\"],[0.5,\"#f7f7f7\"],[0.6,\"#e6f5d0\"],[0.7,\"#b8e186\"],[0.8,\"#7fbc41\"],[0.9,\"#4d9221\"],[1,\"#276419\"]],\"sequential\":[[0.0,\"#0d0887\"],[0.1111111111111111,\"#46039f\"],[0.2222222222222222,\"#7201a8\"],[0.3333333333333333,\"#9c179e\"],[0.4444444444444444,\"#bd3786\"],[0.5555555555555556,\"#d8576b\"],[0.6666666666666666,\"#ed7953\"],[0.7777777777777778,\"#fb9f3a\"],[0.8888888888888888,\"#fdca26\"],[1.0,\"#f0f921\"]],\"sequentialminus\":[[0.0,\"#0d0887\"],[0.1111111111111111,\"#46039f\"],[0.2222222222222222,\"#7201a8\"],[0.3333333333333333,\"#9c179e\"],[0.4444444444444444,\"#bd3786\"],[0.5555555555555556,\"#d8576b\"],[0.6666666666666666,\"#ed7953\"],[0.7777777777777778,\"#fb9f3a\"],[0.8888888888888888,\"#fdca26\"],[1.0,\"#f0f921\"]]},\"colorway\":[\"#636efa\",\"#EF553B\",\"#00cc96\",\"#ab63fa\",\"#FFA15A\",\"#19d3f3\",\"#FF6692\",\"#B6E880\",\"#FF97FF\",\"#FECB52\"],\"font\":{\"color\":\"#2a3f5f\"},\"geo\":{\"bgcolor\":\"white\",\"lakecolor\":\"white\",\"landcolor\":\"#E5ECF6\",\"showlakes\":true,\"showland\":true,\"subunitcolor\":\"white\"},\"hoverlabel\":{\"align\":\"left\"},\"hovermode\":\"closest\",\"mapbox\":{\"style\":\"light\"},\"paper_bgcolor\":\"white\",\"plot_bgcolor\":\"#E5ECF6\",\"polar\":{\"angularaxis\":{\"gridcolor\":\"white\",\"linecolor\":\"white\",\"ticks\":\"\"},\"bgcolor\":\"#E5ECF6\",\"radialaxis\":{\"gridcolor\":\"white\",\"linecolor\":\"white\",\"ticks\":\"\"}},\"scene\":{\"xaxis\":{\"backgroundcolor\":\"#E5ECF6\",\"gridcolor\":\"white\",\"gridwidth\":2,\"linecolor\":\"white\",\"showbackground\":true,\"ticks\":\"\",\"zerolinecolor\":\"white\"},\"yaxis\":{\"backgroundcolor\":\"#E5ECF6\",\"gridcolor\":\"white\",\"gridwidth\":2,\"linecolor\":\"white\",\"showbackground\":true,\"ticks\":\"\",\"zerolinecolor\":\"white\"},\"zaxis\":{\"backgroundcolor\":\"#E5ECF6\",\"gridcolor\":\"white\",\"gridwidth\":2,\"linecolor\":\"white\",\"showbackground\":true,\"ticks\":\"\",\"zerolinecolor\":\"white\"}},\"shapedefaults\":{\"line\":{\"color\":\"#2a3f5f\"}},\"ternary\":{\"aaxis\":{\"gridcolor\":\"white\",\"linecolor\":\"white\",\"ticks\":\"\"},\"baxis\":{\"gridcolor\":\"white\",\"linecolor\":\"white\",\"ticks\":\"\"},\"bgcolor\":\"#E5ECF6\",\"caxis\":{\"gridcolor\":\"white\",\"linecolor\":\"white\",\"ticks\":\"\"}},\"title\":{\"x\":0.05},\"xaxis\":{\"automargin\":true,\"gridcolor\":\"white\",\"linecolor\":\"white\",\"ticks\":\"\",\"title\":{\"standoff\":15},\"zerolinecolor\":\"white\",\"zerolinewidth\":2},\"yaxis\":{\"automargin\":true,\"gridcolor\":\"white\",\"linecolor\":\"white\",\"ticks\":\"\",\"title\":{\"standoff\":15},\"zerolinecolor\":\"white\",\"zerolinewidth\":2}}},\"legend\":{\"tracegroupgap\":0},\"title\":{\"text\":\"Grouping amount of deaths by covid cases\"}},                        {\"responsive\": true}                    ).then(function(){\n",
              "                            \n",
              "var gd = document.getElementById('eec67b52-5026-473f-9581-53e80de7c5ae');\n",
              "var x = new MutationObserver(function (mutations, observer) {{\n",
              "        var display = window.getComputedStyle(gd).display;\n",
              "        if (!display || display === 'none') {{\n",
              "            console.log([gd, 'removed!']);\n",
              "            Plotly.purge(gd);\n",
              "            observer.disconnect();\n",
              "        }}\n",
              "}});\n",
              "\n",
              "// Listen for the removal of the full notebook cells\n",
              "var notebookContainer = gd.closest('#notebook-container');\n",
              "if (notebookContainer) {{\n",
              "    x.observe(notebookContainer, {childList: true});\n",
              "}}\n",
              "\n",
              "// Listen for the clearing of the current output cell\n",
              "var outputEl = gd.closest('.output');\n",
              "if (outputEl) {{\n",
              "    x.observe(outputEl, {childList: true});\n",
              "}}\n",
              "\n",
              "                        })                };                            </script>        </div>\n",
              "</body>\n",
              "</html>"
            ]
          },
          "metadata": {}
        },
        {
          "output_type": "display_data",
          "data": {
            "text/plain": [
              "<Figure size 432x288 with 0 Axes>"
            ]
          },
          "metadata": {}
        }
      ]
    },
    {
      "cell_type": "markdown",
      "source": [
        "Conclusion: with this sunburst we can handle the data by analyzing each group of the amount of deaths per day occasioned by a certain amount of covid casesper day. We can see that in every group of death cases, there were a higher number of covid cases. "
      ],
      "metadata": {
        "id": "-qbmeA03Q2rt"
      },
      "id": "-qbmeA03Q2rt"
    },
    {
      "cell_type": "markdown",
      "source": [
        "# Conclusion\n",
        "\n",
        "Talking about the dataset, I think that this analysis led me thinking about the great amount of deaths led this pandemic situation in the start, and actually, how it was very common to be with someone that at least once had experienced this pandemia. On the other hand, we can handle data by programming dynamic charts, grapsh or even predictions, so we can be more precise and realistic in our hyphotesis at the future.\n",
        "\n",
        "I really think that there were many cases in which I could start resolving the problems with Python by my own and actually, I really think that this information could be needed or important in a futre were I should manage some big amount of data, also I really that this course, this project and this professor led me know what I know now by answering my doubts and talking about the course, by displaying important information that could be useful in a future. "
      ],
      "metadata": {
        "id": "Cd992WrpR3bG"
      },
      "id": "Cd992WrpR3bG"
    },
    {
      "cell_type": "code",
      "source": [
        "import pandas as pd\n",
        "import numpy as np"
      ],
      "metadata": {
        "trusted": true,
        "id": "48a13960-8508-47eb-8a4e-06ac0d227e83"
      },
      "execution_count": 1,
      "outputs": [],
      "id": "48a13960-8508-47eb-8a4e-06ac0d227e83"
    },
    {
      "cell_type": "code",
      "source": [
        "df = pd.read_csv(\"3COVID-19_Daily_Counts_of_Cases__Hospitalizations__and_Deaths.csv\")\n",
        "df.head(2)"
      ],
      "metadata": {
        "trusted": true,
        "colab": {
          "base_uri": "https://localhost:8080/",
          "height": 205
        },
        "id": "bf3395f5-df55-4512-b61c-6e5d8daad6f6",
        "outputId": "58b2782e-8cef-4bcc-a8e0-c5b54d9525d4"
      },
      "execution_count": 2,
      "outputs": [
        {
          "output_type": "execute_result",
          "data": {
            "text/plain": [
              "  DATE_OF_INTEREST  CASE_COUNT  probable_case_count  HOSPITALIZED_COUNT  \\\n",
              "0       02/29/2020           1                    0                   1   \n",
              "1         03/01/20           0                    0                   1   \n",
              "\n",
              "   DEATH_COUNT  DEATH_COUNT_PROBABLE  CASE_COUNT_7DAY_AVG  \\\n",
              "0            0                     0                    0   \n",
              "1            0                     0                    0   \n",
              "\n",
              "   all_case_count_7day_avg  HOSP_COUNT_7DAY_AVG  DEATH_COUNT_7DAY_AVG  ...  \\\n",
              "0                        0                    0                     0  ...   \n",
              "1                        0                    0                     0  ...   \n",
              "\n",
              "   SI_HOSPITALIZED_COUNT  SI_DEATH_COUNT  si_probable_death_count  \\\n",
              "0                      0               0                        0   \n",
              "1                      0               0                        0   \n",
              "\n",
              "   SI_CASE_COUNT_7DAY_AVG  si_all_case_count_7day_avg  \\\n",
              "0                       0                           0   \n",
              "1                       0                           0   \n",
              "\n",
              "   SI_HOSPITALIZED_COUNT_7DAY_AVG  SI_DEATH_COUNT_7DAY_AVG  \\\n",
              "0                               0                        0   \n",
              "1                               0                        0   \n",
              "\n",
              "   si_all_death_count_7day_avg  INCOMPLETE     MONTH  \n",
              "0                            0           0  FEBRUARY  \n",
              "1                            0           0     MARCH  \n",
              "\n",
              "[2 rows x 63 columns]"
            ],
            "text/html": [
              "\n",
              "  <div id=\"df-7b35cdd1-162d-490d-b56f-bbd81c340055\">\n",
              "    <div class=\"colab-df-container\">\n",
              "      <div>\n",
              "<style scoped>\n",
              "    .dataframe tbody tr th:only-of-type {\n",
              "        vertical-align: middle;\n",
              "    }\n",
              "\n",
              "    .dataframe tbody tr th {\n",
              "        vertical-align: top;\n",
              "    }\n",
              "\n",
              "    .dataframe thead th {\n",
              "        text-align: right;\n",
              "    }\n",
              "</style>\n",
              "<table border=\"1\" class=\"dataframe\">\n",
              "  <thead>\n",
              "    <tr style=\"text-align: right;\">\n",
              "      <th></th>\n",
              "      <th>DATE_OF_INTEREST</th>\n",
              "      <th>CASE_COUNT</th>\n",
              "      <th>probable_case_count</th>\n",
              "      <th>HOSPITALIZED_COUNT</th>\n",
              "      <th>DEATH_COUNT</th>\n",
              "      <th>DEATH_COUNT_PROBABLE</th>\n",
              "      <th>CASE_COUNT_7DAY_AVG</th>\n",
              "      <th>all_case_count_7day_avg</th>\n",
              "      <th>HOSP_COUNT_7DAY_AVG</th>\n",
              "      <th>DEATH_COUNT_7DAY_AVG</th>\n",
              "      <th>...</th>\n",
              "      <th>SI_HOSPITALIZED_COUNT</th>\n",
              "      <th>SI_DEATH_COUNT</th>\n",
              "      <th>si_probable_death_count</th>\n",
              "      <th>SI_CASE_COUNT_7DAY_AVG</th>\n",
              "      <th>si_all_case_count_7day_avg</th>\n",
              "      <th>SI_HOSPITALIZED_COUNT_7DAY_AVG</th>\n",
              "      <th>SI_DEATH_COUNT_7DAY_AVG</th>\n",
              "      <th>si_all_death_count_7day_avg</th>\n",
              "      <th>INCOMPLETE</th>\n",
              "      <th>MONTH</th>\n",
              "    </tr>\n",
              "  </thead>\n",
              "  <tbody>\n",
              "    <tr>\n",
              "      <th>0</th>\n",
              "      <td>02/29/2020</td>\n",
              "      <td>1</td>\n",
              "      <td>0</td>\n",
              "      <td>1</td>\n",
              "      <td>0</td>\n",
              "      <td>0</td>\n",
              "      <td>0</td>\n",
              "      <td>0</td>\n",
              "      <td>0</td>\n",
              "      <td>0</td>\n",
              "      <td>...</td>\n",
              "      <td>0</td>\n",
              "      <td>0</td>\n",
              "      <td>0</td>\n",
              "      <td>0</td>\n",
              "      <td>0</td>\n",
              "      <td>0</td>\n",
              "      <td>0</td>\n",
              "      <td>0</td>\n",
              "      <td>0</td>\n",
              "      <td>FEBRUARY</td>\n",
              "    </tr>\n",
              "    <tr>\n",
              "      <th>1</th>\n",
              "      <td>03/01/20</td>\n",
              "      <td>0</td>\n",
              "      <td>0</td>\n",
              "      <td>1</td>\n",
              "      <td>0</td>\n",
              "      <td>0</td>\n",
              "      <td>0</td>\n",
              "      <td>0</td>\n",
              "      <td>0</td>\n",
              "      <td>0</td>\n",
              "      <td>...</td>\n",
              "      <td>0</td>\n",
              "      <td>0</td>\n",
              "      <td>0</td>\n",
              "      <td>0</td>\n",
              "      <td>0</td>\n",
              "      <td>0</td>\n",
              "      <td>0</td>\n",
              "      <td>0</td>\n",
              "      <td>0</td>\n",
              "      <td>MARCH</td>\n",
              "    </tr>\n",
              "  </tbody>\n",
              "</table>\n",
              "<p>2 rows × 63 columns</p>\n",
              "</div>\n",
              "      <button class=\"colab-df-convert\" onclick=\"convertToInteractive('df-7b35cdd1-162d-490d-b56f-bbd81c340055')\"\n",
              "              title=\"Convert this dataframe to an interactive table.\"\n",
              "              style=\"display:none;\">\n",
              "        \n",
              "  <svg xmlns=\"http://www.w3.org/2000/svg\" height=\"24px\"viewBox=\"0 0 24 24\"\n",
              "       width=\"24px\">\n",
              "    <path d=\"M0 0h24v24H0V0z\" fill=\"none\"/>\n",
              "    <path d=\"M18.56 5.44l.94 2.06.94-2.06 2.06-.94-2.06-.94-.94-2.06-.94 2.06-2.06.94zm-11 1L8.5 8.5l.94-2.06 2.06-.94-2.06-.94L8.5 2.5l-.94 2.06-2.06.94zm10 10l.94 2.06.94-2.06 2.06-.94-2.06-.94-.94-2.06-.94 2.06-2.06.94z\"/><path d=\"M17.41 7.96l-1.37-1.37c-.4-.4-.92-.59-1.43-.59-.52 0-1.04.2-1.43.59L10.3 9.45l-7.72 7.72c-.78.78-.78 2.05 0 2.83L4 21.41c.39.39.9.59 1.41.59.51 0 1.02-.2 1.41-.59l7.78-7.78 2.81-2.81c.8-.78.8-2.07 0-2.86zM5.41 20L4 18.59l7.72-7.72 1.47 1.35L5.41 20z\"/>\n",
              "  </svg>\n",
              "      </button>\n",
              "      \n",
              "  <style>\n",
              "    .colab-df-container {\n",
              "      display:flex;\n",
              "      flex-wrap:wrap;\n",
              "      gap: 12px;\n",
              "    }\n",
              "\n",
              "    .colab-df-convert {\n",
              "      background-color: #E8F0FE;\n",
              "      border: none;\n",
              "      border-radius: 50%;\n",
              "      cursor: pointer;\n",
              "      display: none;\n",
              "      fill: #1967D2;\n",
              "      height: 32px;\n",
              "      padding: 0 0 0 0;\n",
              "      width: 32px;\n",
              "    }\n",
              "\n",
              "    .colab-df-convert:hover {\n",
              "      background-color: #E2EBFA;\n",
              "      box-shadow: 0px 1px 2px rgba(60, 64, 67, 0.3), 0px 1px 3px 1px rgba(60, 64, 67, 0.15);\n",
              "      fill: #174EA6;\n",
              "    }\n",
              "\n",
              "    [theme=dark] .colab-df-convert {\n",
              "      background-color: #3B4455;\n",
              "      fill: #D2E3FC;\n",
              "    }\n",
              "\n",
              "    [theme=dark] .colab-df-convert:hover {\n",
              "      background-color: #434B5C;\n",
              "      box-shadow: 0px 1px 3px 1px rgba(0, 0, 0, 0.15);\n",
              "      filter: drop-shadow(0px 1px 2px rgba(0, 0, 0, 0.3));\n",
              "      fill: #FFFFFF;\n",
              "    }\n",
              "  </style>\n",
              "\n",
              "      <script>\n",
              "        const buttonEl =\n",
              "          document.querySelector('#df-7b35cdd1-162d-490d-b56f-bbd81c340055 button.colab-df-convert');\n",
              "        buttonEl.style.display =\n",
              "          google.colab.kernel.accessAllowed ? 'block' : 'none';\n",
              "\n",
              "        async function convertToInteractive(key) {\n",
              "          const element = document.querySelector('#df-7b35cdd1-162d-490d-b56f-bbd81c340055');\n",
              "          const dataTable =\n",
              "            await google.colab.kernel.invokeFunction('convertToInteractive',\n",
              "                                                     [key], {});\n",
              "          if (!dataTable) return;\n",
              "\n",
              "          const docLinkHtml = 'Like what you see? Visit the ' +\n",
              "            '<a target=\"_blank\" href=https://colab.research.google.com/notebooks/data_table.ipynb>data table notebook</a>'\n",
              "            + ' to learn more about interactive tables.';\n",
              "          element.innerHTML = '';\n",
              "          dataTable['output_type'] = 'display_data';\n",
              "          await google.colab.output.renderOutput(dataTable, element);\n",
              "          const docLink = document.createElement('div');\n",
              "          docLink.innerHTML = docLinkHtml;\n",
              "          element.appendChild(docLink);\n",
              "        }\n",
              "      </script>\n",
              "    </div>\n",
              "  </div>\n",
              "  "
            ]
          },
          "metadata": {},
          "execution_count": 2
        }
      ],
      "id": "bf3395f5-df55-4512-b61c-6e5d8daad6f6"
    },
    {
      "cell_type": "code",
      "source": [
        "df.columns"
      ],
      "metadata": {
        "trusted": true,
        "colab": {
          "base_uri": "https://localhost:8080/",
          "height": 0
        },
        "id": "1f89d5cc-1054-4780-9e60-65e08acd3191",
        "outputId": "deb9798a-c8cd-47c5-f038-86b42a96103b"
      },
      "execution_count": 3,
      "outputs": [
        {
          "output_type": "execute_result",
          "data": {
            "text/plain": [
              "Index(['DATE_OF_INTEREST', 'CASE_COUNT', 'probable_case_count',\n",
              "       'HOSPITALIZED_COUNT', 'DEATH_COUNT', 'DEATH_COUNT_PROBABLE',\n",
              "       'CASE_COUNT_7DAY_AVG', 'all_case_count_7day_avg', 'HOSP_COUNT_7DAY_AVG',\n",
              "       'DEATH_COUNT_7DAY_AVG', 'all_death_count_7day_avg', 'BX_CASE_COUNT',\n",
              "       'bx_probable_case_count', 'BX_HOSPITALIZED_COUNT', 'BX_DEATH_COUNT',\n",
              "       'bx_probable_death_count', 'BX_CASE_COUNT_7DAY_AVG',\n",
              "       'bx_all_case_count_7day_avg', 'BX_HOSPITALIZED_COUNT_7DAY_AVG',\n",
              "       'BX_DEATH_COUNT_7DAY_AVG', 'bx_all_death_count_7day_avg',\n",
              "       'BK_CASE_COUNT', 'bk_probable_case_count', 'BK_HOSPITALIZED_COUNT',\n",
              "       'BK_DEATH_COUNT', 'bk_probable_death_count', 'BK_CASE_COUNT_7DAY_AVG',\n",
              "       'bk_all_case_count_7day_avg', 'BK_HOSPITALIZED_COUNT_7DAY_AVG',\n",
              "       'BK_DEATH_COUNT_7DAY_AVG', 'bk_all_death_count_7day_avg',\n",
              "       'MN_CASE_COUNT', 'mn_probable_case_count', 'MN_HOSPITALIZED_COUNT',\n",
              "       'MN_DEATH_COUNT', 'mn_probable_death_count', 'MN_CASE_COUNT_7DAY_AVG',\n",
              "       'mn_all_case_count_7day_avg', 'MN_HOSPITALIZED_COUNT_7DAY_AVG',\n",
              "       'MN_DEATH_COUNT_7DAY_AVG', 'mn_all_death_count_7day_avg',\n",
              "       'QN_CASE_COUNT', 'qn_probable_case_count', 'QN_HOSPITALIZED_COUNT',\n",
              "       'QN_DEATH_COUNT', 'qn_probable_death_count', 'QN_CASE_COUNT_7DAY_AVG',\n",
              "       'qn_all_case_count_7day_avg', 'QN_HOSPITALIZED_COUNT_7DAY_AVG',\n",
              "       'QN_DEATH_COUNT_7DAY_AVG', 'qn_all_death_count_7day_avg',\n",
              "       'SI_CASE_COUNT', 'si_probable_case_count', 'SI_HOSPITALIZED_COUNT',\n",
              "       'SI_DEATH_COUNT', 'si_probable_death_count', 'SI_CASE_COUNT_7DAY_AVG',\n",
              "       'si_all_case_count_7day_avg', 'SI_HOSPITALIZED_COUNT_7DAY_AVG',\n",
              "       'SI_DEATH_COUNT_7DAY_AVG', 'si_all_death_count_7day_avg', 'INCOMPLETE',\n",
              "       'MONTH'],\n",
              "      dtype='object')"
            ]
          },
          "metadata": {},
          "execution_count": 3
        }
      ],
      "id": "1f89d5cc-1054-4780-9e60-65e08acd3191"
    },
    {
      "cell_type": "code",
      "source": [
        "df.drop(['probable_case_count','DEATH_COUNT_PROBABLE',\n",
        "       'CASE_COUNT_7DAY_AVG', 'all_case_count_7day_avg', 'HOSP_COUNT_7DAY_AVG',\n",
        "       'DEATH_COUNT_7DAY_AVG', 'all_death_count_7day_avg', 'BX_CASE_COUNT',\n",
        "       'bx_probable_case_count', 'BX_HOSPITALIZED_COUNT', 'BX_DEATH_COUNT',\n",
        "       'bx_probable_death_count', 'BX_CASE_COUNT_7DAY_AVG',\n",
        "       'bx_all_case_count_7day_avg', 'BX_HOSPITALIZED_COUNT_7DAY_AVG',\n",
        "       'BX_DEATH_COUNT_7DAY_AVG', 'bx_all_death_count_7day_avg',\n",
        "       'BK_CASE_COUNT', 'bk_probable_case_count', 'BK_HOSPITALIZED_COUNT',\n",
        "       'BK_DEATH_COUNT', 'bk_probable_death_count', 'BK_CASE_COUNT_7DAY_AVG',\n",
        "       'bk_all_case_count_7day_avg', 'BK_HOSPITALIZED_COUNT_7DAY_AVG',\n",
        "       'BK_DEATH_COUNT_7DAY_AVG', 'bk_all_death_count_7day_avg',\n",
        "       'MN_CASE_COUNT', 'mn_probable_case_count', 'MN_HOSPITALIZED_COUNT',\n",
        "       'MN_DEATH_COUNT', 'mn_probable_death_count', 'MN_CASE_COUNT_7DAY_AVG',\n",
        "       'mn_all_case_count_7day_avg', 'MN_HOSPITALIZED_COUNT_7DAY_AVG',\n",
        "       'MN_DEATH_COUNT_7DAY_AVG', 'mn_all_death_count_7day_avg',\n",
        "       'QN_CASE_COUNT', 'qn_probable_case_count', 'QN_HOSPITALIZED_COUNT',\n",
        "       'QN_DEATH_COUNT', 'qn_probable_death_count', 'QN_CASE_COUNT_7DAY_AVG',\n",
        "       'qn_all_case_count_7day_avg', 'QN_HOSPITALIZED_COUNT_7DAY_AVG',\n",
        "       'QN_DEATH_COUNT_7DAY_AVG', 'qn_all_death_count_7day_avg',\n",
        "       'SI_CASE_COUNT', 'si_probable_case_count', 'SI_HOSPITALIZED_COUNT',\n",
        "       'SI_DEATH_COUNT', 'si_probable_death_count', 'SI_CASE_COUNT_7DAY_AVG',\n",
        "       'si_all_case_count_7day_avg', 'SI_HOSPITALIZED_COUNT_7DAY_AVG',\n",
        "       'SI_DEATH_COUNT_7DAY_AVG', 'si_all_death_count_7day_avg', 'INCOMPLETE'],\n",
        "        axis = 1,\n",
        "        inplace = True\n",
        "       )"
      ],
      "metadata": {
        "trusted": true,
        "id": "92780882-4c05-4caf-a663-9ae5f2200401"
      },
      "execution_count": 4,
      "outputs": [],
      "id": "92780882-4c05-4caf-a663-9ae5f2200401"
    },
    {
      "cell_type": "code",
      "source": [
        "import matplotlib.pyplot as plt\n",
        "import matplotlib as mpl"
      ],
      "metadata": {
        "trusted": true,
        "id": "0e6eff05-9f29-4141-8d9f-8de2cfba1210"
      },
      "execution_count": 5,
      "outputs": [],
      "id": "0e6eff05-9f29-4141-8d9f-8de2cfba1210"
    },
    {
      "cell_type": "code",
      "source": [
        "mpl.style.use('dark_background')"
      ],
      "metadata": {
        "trusted": true,
        "id": "0a83bc20-b9e8-4b8a-831c-433ccfe5a797"
      },
      "execution_count": 6,
      "outputs": [],
      "id": "0a83bc20-b9e8-4b8a-831c-433ccfe5a797"
    },
    {
      "cell_type": "code",
      "source": [
        "mpl.style.available"
      ],
      "metadata": {
        "colab": {
          "base_uri": "https://localhost:8080/",
          "height": 0
        },
        "id": "guESNkUsXXIl",
        "outputId": "472bbfb4-9893-4bce-da1b-a36a1fe36aa2"
      },
      "id": "guESNkUsXXIl",
      "execution_count": 7,
      "outputs": [
        {
          "output_type": "execute_result",
          "data": {
            "text/plain": [
              "['Solarize_Light2',\n",
              " '_classic_test_patch',\n",
              " 'bmh',\n",
              " 'classic',\n",
              " 'dark_background',\n",
              " 'fast',\n",
              " 'fivethirtyeight',\n",
              " 'ggplot',\n",
              " 'grayscale',\n",
              " 'seaborn',\n",
              " 'seaborn-bright',\n",
              " 'seaborn-colorblind',\n",
              " 'seaborn-dark',\n",
              " 'seaborn-dark-palette',\n",
              " 'seaborn-darkgrid',\n",
              " 'seaborn-deep',\n",
              " 'seaborn-muted',\n",
              " 'seaborn-notebook',\n",
              " 'seaborn-paper',\n",
              " 'seaborn-pastel',\n",
              " 'seaborn-poster',\n",
              " 'seaborn-talk',\n",
              " 'seaborn-ticks',\n",
              " 'seaborn-white',\n",
              " 'seaborn-whitegrid',\n",
              " 'tableau-colorblind10']"
            ]
          },
          "metadata": {},
          "execution_count": 7
        }
      ]
    },
    {
      "cell_type": "code",
      "source": [
        "df.columns = list(map(str, df.columns))\n",
        "df.columns"
      ],
      "metadata": {
        "trusted": true,
        "colab": {
          "base_uri": "https://localhost:8080/",
          "height": 0
        },
        "id": "c8b52b90-d4d8-47aa-b91d-94dfb47598ff",
        "outputId": "19c63d87-dc9d-45c3-d9e0-cf0f475f7f28"
      },
      "execution_count": 8,
      "outputs": [
        {
          "output_type": "execute_result",
          "data": {
            "text/plain": [
              "Index(['DATE_OF_INTEREST', 'CASE_COUNT', 'HOSPITALIZED_COUNT', 'DEATH_COUNT',\n",
              "       'MONTH'],\n",
              "      dtype='object')"
            ]
          },
          "metadata": {},
          "execution_count": 8
        }
      ],
      "id": "c8b52b90-d4d8-47aa-b91d-94dfb47598ff"
    },
    {
      "cell_type": "code",
      "source": [
        "df.set_index('DATE_OF_INTEREST', inplace = True)\n",
        "df.head()"
      ],
      "metadata": {
        "trusted": true,
        "colab": {
          "base_uri": "https://localhost:8080/",
          "height": 237
        },
        "id": "f4e9fa27-52dc-494f-b814-1700854f9110",
        "outputId": "811305a4-616f-4ca9-83a2-4900cd4216e6"
      },
      "execution_count": 9,
      "outputs": [
        {
          "output_type": "execute_result",
          "data": {
            "text/plain": [
              "                  CASE_COUNT  HOSPITALIZED_COUNT  DEATH_COUNT     MONTH\n",
              "DATE_OF_INTEREST                                                       \n",
              "02/29/2020                 1                   1            0  FEBRUARY\n",
              "03/01/20                   0                   1            0     MARCH\n",
              "03/02/20                   0                   2            0     MARCH\n",
              "03/03/20                   1                   7            0     MARCH\n",
              "03/04/20                   5                   2            0     MARCH"
            ],
            "text/html": [
              "\n",
              "  <div id=\"df-6926d0a9-ab7b-4e02-9885-d15c71a5f08f\">\n",
              "    <div class=\"colab-df-container\">\n",
              "      <div>\n",
              "<style scoped>\n",
              "    .dataframe tbody tr th:only-of-type {\n",
              "        vertical-align: middle;\n",
              "    }\n",
              "\n",
              "    .dataframe tbody tr th {\n",
              "        vertical-align: top;\n",
              "    }\n",
              "\n",
              "    .dataframe thead th {\n",
              "        text-align: right;\n",
              "    }\n",
              "</style>\n",
              "<table border=\"1\" class=\"dataframe\">\n",
              "  <thead>\n",
              "    <tr style=\"text-align: right;\">\n",
              "      <th></th>\n",
              "      <th>CASE_COUNT</th>\n",
              "      <th>HOSPITALIZED_COUNT</th>\n",
              "      <th>DEATH_COUNT</th>\n",
              "      <th>MONTH</th>\n",
              "    </tr>\n",
              "    <tr>\n",
              "      <th>DATE_OF_INTEREST</th>\n",
              "      <th></th>\n",
              "      <th></th>\n",
              "      <th></th>\n",
              "      <th></th>\n",
              "    </tr>\n",
              "  </thead>\n",
              "  <tbody>\n",
              "    <tr>\n",
              "      <th>02/29/2020</th>\n",
              "      <td>1</td>\n",
              "      <td>1</td>\n",
              "      <td>0</td>\n",
              "      <td>FEBRUARY</td>\n",
              "    </tr>\n",
              "    <tr>\n",
              "      <th>03/01/20</th>\n",
              "      <td>0</td>\n",
              "      <td>1</td>\n",
              "      <td>0</td>\n",
              "      <td>MARCH</td>\n",
              "    </tr>\n",
              "    <tr>\n",
              "      <th>03/02/20</th>\n",
              "      <td>0</td>\n",
              "      <td>2</td>\n",
              "      <td>0</td>\n",
              "      <td>MARCH</td>\n",
              "    </tr>\n",
              "    <tr>\n",
              "      <th>03/03/20</th>\n",
              "      <td>1</td>\n",
              "      <td>7</td>\n",
              "      <td>0</td>\n",
              "      <td>MARCH</td>\n",
              "    </tr>\n",
              "    <tr>\n",
              "      <th>03/04/20</th>\n",
              "      <td>5</td>\n",
              "      <td>2</td>\n",
              "      <td>0</td>\n",
              "      <td>MARCH</td>\n",
              "    </tr>\n",
              "  </tbody>\n",
              "</table>\n",
              "</div>\n",
              "      <button class=\"colab-df-convert\" onclick=\"convertToInteractive('df-6926d0a9-ab7b-4e02-9885-d15c71a5f08f')\"\n",
              "              title=\"Convert this dataframe to an interactive table.\"\n",
              "              style=\"display:none;\">\n",
              "        \n",
              "  <svg xmlns=\"http://www.w3.org/2000/svg\" height=\"24px\"viewBox=\"0 0 24 24\"\n",
              "       width=\"24px\">\n",
              "    <path d=\"M0 0h24v24H0V0z\" fill=\"none\"/>\n",
              "    <path d=\"M18.56 5.44l.94 2.06.94-2.06 2.06-.94-2.06-.94-.94-2.06-.94 2.06-2.06.94zm-11 1L8.5 8.5l.94-2.06 2.06-.94-2.06-.94L8.5 2.5l-.94 2.06-2.06.94zm10 10l.94 2.06.94-2.06 2.06-.94-2.06-.94-.94-2.06-.94 2.06-2.06.94z\"/><path d=\"M17.41 7.96l-1.37-1.37c-.4-.4-.92-.59-1.43-.59-.52 0-1.04.2-1.43.59L10.3 9.45l-7.72 7.72c-.78.78-.78 2.05 0 2.83L4 21.41c.39.39.9.59 1.41.59.51 0 1.02-.2 1.41-.59l7.78-7.78 2.81-2.81c.8-.78.8-2.07 0-2.86zM5.41 20L4 18.59l7.72-7.72 1.47 1.35L5.41 20z\"/>\n",
              "  </svg>\n",
              "      </button>\n",
              "      \n",
              "  <style>\n",
              "    .colab-df-container {\n",
              "      display:flex;\n",
              "      flex-wrap:wrap;\n",
              "      gap: 12px;\n",
              "    }\n",
              "\n",
              "    .colab-df-convert {\n",
              "      background-color: #E8F0FE;\n",
              "      border: none;\n",
              "      border-radius: 50%;\n",
              "      cursor: pointer;\n",
              "      display: none;\n",
              "      fill: #1967D2;\n",
              "      height: 32px;\n",
              "      padding: 0 0 0 0;\n",
              "      width: 32px;\n",
              "    }\n",
              "\n",
              "    .colab-df-convert:hover {\n",
              "      background-color: #E2EBFA;\n",
              "      box-shadow: 0px 1px 2px rgba(60, 64, 67, 0.3), 0px 1px 3px 1px rgba(60, 64, 67, 0.15);\n",
              "      fill: #174EA6;\n",
              "    }\n",
              "\n",
              "    [theme=dark] .colab-df-convert {\n",
              "      background-color: #3B4455;\n",
              "      fill: #D2E3FC;\n",
              "    }\n",
              "\n",
              "    [theme=dark] .colab-df-convert:hover {\n",
              "      background-color: #434B5C;\n",
              "      box-shadow: 0px 1px 3px 1px rgba(0, 0, 0, 0.15);\n",
              "      filter: drop-shadow(0px 1px 2px rgba(0, 0, 0, 0.3));\n",
              "      fill: #FFFFFF;\n",
              "    }\n",
              "  </style>\n",
              "\n",
              "      <script>\n",
              "        const buttonEl =\n",
              "          document.querySelector('#df-6926d0a9-ab7b-4e02-9885-d15c71a5f08f button.colab-df-convert');\n",
              "        buttonEl.style.display =\n",
              "          google.colab.kernel.accessAllowed ? 'block' : 'none';\n",
              "\n",
              "        async function convertToInteractive(key) {\n",
              "          const element = document.querySelector('#df-6926d0a9-ab7b-4e02-9885-d15c71a5f08f');\n",
              "          const dataTable =\n",
              "            await google.colab.kernel.invokeFunction('convertToInteractive',\n",
              "                                                     [key], {});\n",
              "          if (!dataTable) return;\n",
              "\n",
              "          const docLinkHtml = 'Like what you see? Visit the ' +\n",
              "            '<a target=\"_blank\" href=https://colab.research.google.com/notebooks/data_table.ipynb>data table notebook</a>'\n",
              "            + ' to learn more about interactive tables.';\n",
              "          element.innerHTML = '';\n",
              "          dataTable['output_type'] = 'display_data';\n",
              "          await google.colab.output.renderOutput(dataTable, element);\n",
              "          const docLink = document.createElement('div');\n",
              "          docLink.innerHTML = docLinkHtml;\n",
              "          element.appendChild(docLink);\n",
              "        }\n",
              "      </script>\n",
              "    </div>\n",
              "  </div>\n",
              "  "
            ]
          },
          "metadata": {},
          "execution_count": 9
        }
      ],
      "id": "f4e9fa27-52dc-494f-b814-1700854f9110"
    },
    {
      "cell_type": "code",
      "source": [
        "mpl.style.use('Solarize_Light2')\n",
        "print(plt.style.available)"
      ],
      "metadata": {
        "trusted": true,
        "colab": {
          "base_uri": "https://localhost:8080/",
          "height": 0
        },
        "id": "676889bb-db41-466f-9b73-966f15010517",
        "outputId": "1d23a1fb-ed67-4414-82ed-410845e4e60a"
      },
      "execution_count": 10,
      "outputs": [
        {
          "output_type": "stream",
          "name": "stdout",
          "text": [
            "['Solarize_Light2', '_classic_test_patch', 'bmh', 'classic', 'dark_background', 'fast', 'fivethirtyeight', 'ggplot', 'grayscale', 'seaborn', 'seaborn-bright', 'seaborn-colorblind', 'seaborn-dark', 'seaborn-dark-palette', 'seaborn-darkgrid', 'seaborn-deep', 'seaborn-muted', 'seaborn-notebook', 'seaborn-paper', 'seaborn-pastel', 'seaborn-poster', 'seaborn-talk', 'seaborn-ticks', 'seaborn-white', 'seaborn-whitegrid', 'tableau-colorblind10']\n"
          ]
        }
      ],
      "id": "676889bb-db41-466f-9b73-966f15010517"
    },
    {
      "cell_type": "code",
      "source": [
        "import seaborn as sns"
      ],
      "metadata": {
        "trusted": true,
        "id": "8f9efb26-07ff-49e5-a742-f659b1a0e212"
      },
      "execution_count": 11,
      "outputs": [],
      "id": "8f9efb26-07ff-49e5-a742-f659b1a0e212"
    },
    {
      "cell_type": "code",
      "source": [
        "#pip install xlrd"
      ],
      "metadata": {
        "trusted": true,
        "id": "bf5d7a9c-5dff-4e67-8c5b-ff802ef6d125"
      },
      "execution_count": 12,
      "outputs": [],
      "id": "bf5d7a9c-5dff-4e67-8c5b-ff802ef6d125"
    },
    {
      "cell_type": "code",
      "source": [
        "import numpy as np"
      ],
      "metadata": {
        "trusted": true,
        "id": "0518852b-5b3a-4032-ba3d-47d0973d4159"
      },
      "execution_count": 13,
      "outputs": [],
      "id": "0518852b-5b3a-4032-ba3d-47d0973d4159"
    },
    {
      "cell_type": "code",
      "source": [
        "mpl.style.use('ggplot')"
      ],
      "metadata": {
        "trusted": true,
        "id": "3b0cf12c-afbf-458e-8d36-17cf75e437d4"
      },
      "execution_count": 14,
      "outputs": [],
      "id": "3b0cf12c-afbf-458e-8d36-17cf75e437d4"
    },
    {
      "cell_type": "code",
      "source": [
        "counts = df['CASE_COUNT'].value_counts()"
      ],
      "metadata": {
        "trusted": true,
        "id": "adf44e6c-53e2-4e2c-947d-9d1968f1d1cc"
      },
      "execution_count": 15,
      "outputs": [],
      "id": "adf44e6c-53e2-4e2c-947d-9d1968f1d1cc"
    },
    {
      "cell_type": "code",
      "source": [
        "counts"
      ],
      "metadata": {
        "trusted": true,
        "colab": {
          "base_uri": "https://localhost:8080/",
          "height": 0
        },
        "id": "4d30a134-d796-4e33-ae6f-bd3098ff7b79",
        "outputId": "59996f03-1976-4792-894d-47f8516cd8fb"
      },
      "execution_count": 16,
      "outputs": [
        {
          "output_type": "execute_result",
          "data": {
            "text/plain": [
              "1       2\n",
              "0       2\n",
              "3530    1\n",
              "3876    1\n",
              "5119    1\n",
              "3479    1\n",
              "3560    1\n",
              "6129    1\n",
              "5458    1\n",
              "5449    1\n",
              "5746    1\n",
              "5670    1\n",
              "3866    1\n",
              "3780    1\n",
              "5044    1\n",
              "6044    1\n",
              "5575    1\n",
              "5070    1\n",
              "4510    1\n",
              "3732    1\n",
              "2888    1\n",
              "3311    1\n",
              "4144    1\n",
              "6353    1\n",
              "4874    1\n",
              "4497    1\n",
              "3570    1\n",
              "5       1\n",
              "3       1\n",
              "8       1\n",
              "7       1\n",
              "21      1\n",
              "57      1\n",
              "69      1\n",
              "155     1\n",
              "355     1\n",
              "619     1\n",
              "642     1\n",
              "1035    1\n",
              "2121    1\n",
              "2452    1\n",
              "2971    1\n",
              "3706    1\n",
              "4006    1\n",
              "2639    1\n",
              "2580    1\n",
              "3586    1\n",
              "Name: CASE_COUNT, dtype: int64"
            ]
          },
          "metadata": {},
          "execution_count": 16
        }
      ],
      "id": "4d30a134-d796-4e33-ae6f-bd3098ff7b79"
    },
    {
      "cell_type": "code",
      "source": [
        "def custom_cls(x):\n",
        "    if (0 <= x <= 120):\n",
        "        return '<= 120'\n",
        "    elif (121 <= x <= 230):\n",
        "        return '121 - 230'\n",
        "    elif (231 <= x <= 500):\n",
        "        return '231 - 500'\n",
        "    else:\n",
        "        return '> 500'"
      ],
      "metadata": {
        "trusted": true,
        "id": "d25e802d-5df0-4164-be70-ef87ffe9c5e7"
      },
      "execution_count": 17,
      "outputs": [],
      "id": "d25e802d-5df0-4164-be70-ef87ffe9c5e7"
    },
    {
      "cell_type": "code",
      "source": [
        "df['case_counts'] = df.apply(lambda tbl: custom_cls(tbl['DEATH_COUNT']), axis = 1)\n",
        "df.head()"
      ],
      "metadata": {
        "trusted": true,
        "colab": {
          "base_uri": "https://localhost:8080/",
          "height": 237
        },
        "id": "bdc0431b-0b5c-4b45-bb6b-0b9ccb86c5dc",
        "outputId": "6a204067-2432-4787-9915-61ad9df31327"
      },
      "execution_count": 18,
      "outputs": [
        {
          "output_type": "execute_result",
          "data": {
            "text/plain": [
              "                  CASE_COUNT  HOSPITALIZED_COUNT  DEATH_COUNT     MONTH  \\\n",
              "DATE_OF_INTEREST                                                          \n",
              "02/29/2020                 1                   1            0  FEBRUARY   \n",
              "03/01/20                   0                   1            0     MARCH   \n",
              "03/02/20                   0                   2            0     MARCH   \n",
              "03/03/20                   1                   7            0     MARCH   \n",
              "03/04/20                   5                   2            0     MARCH   \n",
              "\n",
              "                 case_counts  \n",
              "DATE_OF_INTEREST              \n",
              "02/29/2020            <= 120  \n",
              "03/01/20              <= 120  \n",
              "03/02/20              <= 120  \n",
              "03/03/20              <= 120  \n",
              "03/04/20              <= 120  "
            ],
            "text/html": [
              "\n",
              "  <div id=\"df-17b2bcd7-6176-4a3c-a489-0b456f893fb1\">\n",
              "    <div class=\"colab-df-container\">\n",
              "      <div>\n",
              "<style scoped>\n",
              "    .dataframe tbody tr th:only-of-type {\n",
              "        vertical-align: middle;\n",
              "    }\n",
              "\n",
              "    .dataframe tbody tr th {\n",
              "        vertical-align: top;\n",
              "    }\n",
              "\n",
              "    .dataframe thead th {\n",
              "        text-align: right;\n",
              "    }\n",
              "</style>\n",
              "<table border=\"1\" class=\"dataframe\">\n",
              "  <thead>\n",
              "    <tr style=\"text-align: right;\">\n",
              "      <th></th>\n",
              "      <th>CASE_COUNT</th>\n",
              "      <th>HOSPITALIZED_COUNT</th>\n",
              "      <th>DEATH_COUNT</th>\n",
              "      <th>MONTH</th>\n",
              "      <th>case_counts</th>\n",
              "    </tr>\n",
              "    <tr>\n",
              "      <th>DATE_OF_INTEREST</th>\n",
              "      <th></th>\n",
              "      <th></th>\n",
              "      <th></th>\n",
              "      <th></th>\n",
              "      <th></th>\n",
              "    </tr>\n",
              "  </thead>\n",
              "  <tbody>\n",
              "    <tr>\n",
              "      <th>02/29/2020</th>\n",
              "      <td>1</td>\n",
              "      <td>1</td>\n",
              "      <td>0</td>\n",
              "      <td>FEBRUARY</td>\n",
              "      <td>&lt;= 120</td>\n",
              "    </tr>\n",
              "    <tr>\n",
              "      <th>03/01/20</th>\n",
              "      <td>0</td>\n",
              "      <td>1</td>\n",
              "      <td>0</td>\n",
              "      <td>MARCH</td>\n",
              "      <td>&lt;= 120</td>\n",
              "    </tr>\n",
              "    <tr>\n",
              "      <th>03/02/20</th>\n",
              "      <td>0</td>\n",
              "      <td>2</td>\n",
              "      <td>0</td>\n",
              "      <td>MARCH</td>\n",
              "      <td>&lt;= 120</td>\n",
              "    </tr>\n",
              "    <tr>\n",
              "      <th>03/03/20</th>\n",
              "      <td>1</td>\n",
              "      <td>7</td>\n",
              "      <td>0</td>\n",
              "      <td>MARCH</td>\n",
              "      <td>&lt;= 120</td>\n",
              "    </tr>\n",
              "    <tr>\n",
              "      <th>03/04/20</th>\n",
              "      <td>5</td>\n",
              "      <td>2</td>\n",
              "      <td>0</td>\n",
              "      <td>MARCH</td>\n",
              "      <td>&lt;= 120</td>\n",
              "    </tr>\n",
              "  </tbody>\n",
              "</table>\n",
              "</div>\n",
              "      <button class=\"colab-df-convert\" onclick=\"convertToInteractive('df-17b2bcd7-6176-4a3c-a489-0b456f893fb1')\"\n",
              "              title=\"Convert this dataframe to an interactive table.\"\n",
              "              style=\"display:none;\">\n",
              "        \n",
              "  <svg xmlns=\"http://www.w3.org/2000/svg\" height=\"24px\"viewBox=\"0 0 24 24\"\n",
              "       width=\"24px\">\n",
              "    <path d=\"M0 0h24v24H0V0z\" fill=\"none\"/>\n",
              "    <path d=\"M18.56 5.44l.94 2.06.94-2.06 2.06-.94-2.06-.94-.94-2.06-.94 2.06-2.06.94zm-11 1L8.5 8.5l.94-2.06 2.06-.94-2.06-.94L8.5 2.5l-.94 2.06-2.06.94zm10 10l.94 2.06.94-2.06 2.06-.94-2.06-.94-.94-2.06-.94 2.06-2.06.94z\"/><path d=\"M17.41 7.96l-1.37-1.37c-.4-.4-.92-.59-1.43-.59-.52 0-1.04.2-1.43.59L10.3 9.45l-7.72 7.72c-.78.78-.78 2.05 0 2.83L4 21.41c.39.39.9.59 1.41.59.51 0 1.02-.2 1.41-.59l7.78-7.78 2.81-2.81c.8-.78.8-2.07 0-2.86zM5.41 20L4 18.59l7.72-7.72 1.47 1.35L5.41 20z\"/>\n",
              "  </svg>\n",
              "      </button>\n",
              "      \n",
              "  <style>\n",
              "    .colab-df-container {\n",
              "      display:flex;\n",
              "      flex-wrap:wrap;\n",
              "      gap: 12px;\n",
              "    }\n",
              "\n",
              "    .colab-df-convert {\n",
              "      background-color: #E8F0FE;\n",
              "      border: none;\n",
              "      border-radius: 50%;\n",
              "      cursor: pointer;\n",
              "      display: none;\n",
              "      fill: #1967D2;\n",
              "      height: 32px;\n",
              "      padding: 0 0 0 0;\n",
              "      width: 32px;\n",
              "    }\n",
              "\n",
              "    .colab-df-convert:hover {\n",
              "      background-color: #E2EBFA;\n",
              "      box-shadow: 0px 1px 2px rgba(60, 64, 67, 0.3), 0px 1px 3px 1px rgba(60, 64, 67, 0.15);\n",
              "      fill: #174EA6;\n",
              "    }\n",
              "\n",
              "    [theme=dark] .colab-df-convert {\n",
              "      background-color: #3B4455;\n",
              "      fill: #D2E3FC;\n",
              "    }\n",
              "\n",
              "    [theme=dark] .colab-df-convert:hover {\n",
              "      background-color: #434B5C;\n",
              "      box-shadow: 0px 1px 3px 1px rgba(0, 0, 0, 0.15);\n",
              "      filter: drop-shadow(0px 1px 2px rgba(0, 0, 0, 0.3));\n",
              "      fill: #FFFFFF;\n",
              "    }\n",
              "  </style>\n",
              "\n",
              "      <script>\n",
              "        const buttonEl =\n",
              "          document.querySelector('#df-17b2bcd7-6176-4a3c-a489-0b456f893fb1 button.colab-df-convert');\n",
              "        buttonEl.style.display =\n",
              "          google.colab.kernel.accessAllowed ? 'block' : 'none';\n",
              "\n",
              "        async function convertToInteractive(key) {\n",
              "          const element = document.querySelector('#df-17b2bcd7-6176-4a3c-a489-0b456f893fb1');\n",
              "          const dataTable =\n",
              "            await google.colab.kernel.invokeFunction('convertToInteractive',\n",
              "                                                     [key], {});\n",
              "          if (!dataTable) return;\n",
              "\n",
              "          const docLinkHtml = 'Like what you see? Visit the ' +\n",
              "            '<a target=\"_blank\" href=https://colab.research.google.com/notebooks/data_table.ipynb>data table notebook</a>'\n",
              "            + ' to learn more about interactive tables.';\n",
              "          element.innerHTML = '';\n",
              "          dataTable['output_type'] = 'display_data';\n",
              "          await google.colab.output.renderOutput(dataTable, element);\n",
              "          const docLink = document.createElement('div');\n",
              "          docLink.innerHTML = docLinkHtml;\n",
              "          element.appendChild(docLink);\n",
              "        }\n",
              "      </script>\n",
              "    </div>\n",
              "  </div>\n",
              "  "
            ]
          },
          "metadata": {},
          "execution_count": 18
        }
      ],
      "id": "bdc0431b-0b5c-4b45-bb6b-0b9ccb86c5dc"
    },
    {
      "cell_type": "code",
      "source": [
        "d_date = df.groupby(['case_counts','DEATH_COUNT']).size()\n",
        "d_date = d_date.to_frame()"
      ],
      "metadata": {
        "trusted": true,
        "id": "69ab21bc-07b2-4e40-979f-04fa74395f78"
      },
      "execution_count": 19,
      "outputs": [],
      "id": "69ab21bc-07b2-4e40-979f-04fa74395f78"
    },
    {
      "cell_type": "code",
      "source": [
        "d_date = pd.pivot_table(index =['case_counts','DEATH_COUNT'],\n",
        "                         aggfunc = len,\n",
        "                         values = 'CASE_COUNT',\n",
        "                         data = df,\n",
        "                         margins = True)\n",
        "d_date "
      ],
      "metadata": {
        "trusted": true,
        "colab": {
          "base_uri": "https://localhost:8080/",
          "height": 1240
        },
        "id": "49ee4f90-9df6-40fa-b745-5f04fd0e3bc4",
        "outputId": "1f1fcc9a-5e45-4501-eceb-1c79630e4912"
      },
      "execution_count": 20,
      "outputs": [
        {
          "output_type": "execute_result",
          "data": {
            "text/plain": [
              "                         CASE_COUNT\n",
              "case_counts DEATH_COUNT            \n",
              "121 - 230   124                   1\n",
              "            186                   1\n",
              "            218                   1\n",
              "231 - 500   273                   1\n",
              "            291                   1\n",
              "            323                   1\n",
              "            384                   1\n",
              "            386                   1\n",
              "            413                   1\n",
              "            447                   1\n",
              "            455                   1\n",
              "            498                   1\n",
              "            499                   1\n",
              "<= 120      0                    13\n",
              "            1                     1\n",
              "            2                     1\n",
              "            4                     1\n",
              "            8                     2\n",
              "            20                    1\n",
              "            24                    1\n",
              "            45                    1\n",
              "            48                    1\n",
              "            49                    1\n",
              "            82                    1\n",
              "            95                    1\n",
              "> 500       507                   1\n",
              "            510                   1\n",
              "            537                   1\n",
              "            544                   1\n",
              "            559                   1\n",
              "            567                   1\n",
              "            568                   1\n",
              "            573                   1\n",
              "            576                   1\n",
              "            578                   1\n",
              "            598                   1\n",
              "All                              49"
            ],
            "text/html": [
              "\n",
              "  <div id=\"df-18a9ac12-b116-4be6-9248-f8dc61be46c3\">\n",
              "    <div class=\"colab-df-container\">\n",
              "      <div>\n",
              "<style scoped>\n",
              "    .dataframe tbody tr th:only-of-type {\n",
              "        vertical-align: middle;\n",
              "    }\n",
              "\n",
              "    .dataframe tbody tr th {\n",
              "        vertical-align: top;\n",
              "    }\n",
              "\n",
              "    .dataframe thead th {\n",
              "        text-align: right;\n",
              "    }\n",
              "</style>\n",
              "<table border=\"1\" class=\"dataframe\">\n",
              "  <thead>\n",
              "    <tr style=\"text-align: right;\">\n",
              "      <th></th>\n",
              "      <th></th>\n",
              "      <th>CASE_COUNT</th>\n",
              "    </tr>\n",
              "    <tr>\n",
              "      <th>case_counts</th>\n",
              "      <th>DEATH_COUNT</th>\n",
              "      <th></th>\n",
              "    </tr>\n",
              "  </thead>\n",
              "  <tbody>\n",
              "    <tr>\n",
              "      <th rowspan=\"3\" valign=\"top\">121 - 230</th>\n",
              "      <th>124</th>\n",
              "      <td>1</td>\n",
              "    </tr>\n",
              "    <tr>\n",
              "      <th>186</th>\n",
              "      <td>1</td>\n",
              "    </tr>\n",
              "    <tr>\n",
              "      <th>218</th>\n",
              "      <td>1</td>\n",
              "    </tr>\n",
              "    <tr>\n",
              "      <th rowspan=\"10\" valign=\"top\">231 - 500</th>\n",
              "      <th>273</th>\n",
              "      <td>1</td>\n",
              "    </tr>\n",
              "    <tr>\n",
              "      <th>291</th>\n",
              "      <td>1</td>\n",
              "    </tr>\n",
              "    <tr>\n",
              "      <th>323</th>\n",
              "      <td>1</td>\n",
              "    </tr>\n",
              "    <tr>\n",
              "      <th>384</th>\n",
              "      <td>1</td>\n",
              "    </tr>\n",
              "    <tr>\n",
              "      <th>386</th>\n",
              "      <td>1</td>\n",
              "    </tr>\n",
              "    <tr>\n",
              "      <th>413</th>\n",
              "      <td>1</td>\n",
              "    </tr>\n",
              "    <tr>\n",
              "      <th>447</th>\n",
              "      <td>1</td>\n",
              "    </tr>\n",
              "    <tr>\n",
              "      <th>455</th>\n",
              "      <td>1</td>\n",
              "    </tr>\n",
              "    <tr>\n",
              "      <th>498</th>\n",
              "      <td>1</td>\n",
              "    </tr>\n",
              "    <tr>\n",
              "      <th>499</th>\n",
              "      <td>1</td>\n",
              "    </tr>\n",
              "    <tr>\n",
              "      <th rowspan=\"12\" valign=\"top\">&lt;= 120</th>\n",
              "      <th>0</th>\n",
              "      <td>13</td>\n",
              "    </tr>\n",
              "    <tr>\n",
              "      <th>1</th>\n",
              "      <td>1</td>\n",
              "    </tr>\n",
              "    <tr>\n",
              "      <th>2</th>\n",
              "      <td>1</td>\n",
              "    </tr>\n",
              "    <tr>\n",
              "      <th>4</th>\n",
              "      <td>1</td>\n",
              "    </tr>\n",
              "    <tr>\n",
              "      <th>8</th>\n",
              "      <td>2</td>\n",
              "    </tr>\n",
              "    <tr>\n",
              "      <th>20</th>\n",
              "      <td>1</td>\n",
              "    </tr>\n",
              "    <tr>\n",
              "      <th>24</th>\n",
              "      <td>1</td>\n",
              "    </tr>\n",
              "    <tr>\n",
              "      <th>45</th>\n",
              "      <td>1</td>\n",
              "    </tr>\n",
              "    <tr>\n",
              "      <th>48</th>\n",
              "      <td>1</td>\n",
              "    </tr>\n",
              "    <tr>\n",
              "      <th>49</th>\n",
              "      <td>1</td>\n",
              "    </tr>\n",
              "    <tr>\n",
              "      <th>82</th>\n",
              "      <td>1</td>\n",
              "    </tr>\n",
              "    <tr>\n",
              "      <th>95</th>\n",
              "      <td>1</td>\n",
              "    </tr>\n",
              "    <tr>\n",
              "      <th rowspan=\"11\" valign=\"top\">&gt; 500</th>\n",
              "      <th>507</th>\n",
              "      <td>1</td>\n",
              "    </tr>\n",
              "    <tr>\n",
              "      <th>510</th>\n",
              "      <td>1</td>\n",
              "    </tr>\n",
              "    <tr>\n",
              "      <th>537</th>\n",
              "      <td>1</td>\n",
              "    </tr>\n",
              "    <tr>\n",
              "      <th>544</th>\n",
              "      <td>1</td>\n",
              "    </tr>\n",
              "    <tr>\n",
              "      <th>559</th>\n",
              "      <td>1</td>\n",
              "    </tr>\n",
              "    <tr>\n",
              "      <th>567</th>\n",
              "      <td>1</td>\n",
              "    </tr>\n",
              "    <tr>\n",
              "      <th>568</th>\n",
              "      <td>1</td>\n",
              "    </tr>\n",
              "    <tr>\n",
              "      <th>573</th>\n",
              "      <td>1</td>\n",
              "    </tr>\n",
              "    <tr>\n",
              "      <th>576</th>\n",
              "      <td>1</td>\n",
              "    </tr>\n",
              "    <tr>\n",
              "      <th>578</th>\n",
              "      <td>1</td>\n",
              "    </tr>\n",
              "    <tr>\n",
              "      <th>598</th>\n",
              "      <td>1</td>\n",
              "    </tr>\n",
              "    <tr>\n",
              "      <th>All</th>\n",
              "      <th></th>\n",
              "      <td>49</td>\n",
              "    </tr>\n",
              "  </tbody>\n",
              "</table>\n",
              "</div>\n",
              "      <button class=\"colab-df-convert\" onclick=\"convertToInteractive('df-18a9ac12-b116-4be6-9248-f8dc61be46c3')\"\n",
              "              title=\"Convert this dataframe to an interactive table.\"\n",
              "              style=\"display:none;\">\n",
              "        \n",
              "  <svg xmlns=\"http://www.w3.org/2000/svg\" height=\"24px\"viewBox=\"0 0 24 24\"\n",
              "       width=\"24px\">\n",
              "    <path d=\"M0 0h24v24H0V0z\" fill=\"none\"/>\n",
              "    <path d=\"M18.56 5.44l.94 2.06.94-2.06 2.06-.94-2.06-.94-.94-2.06-.94 2.06-2.06.94zm-11 1L8.5 8.5l.94-2.06 2.06-.94-2.06-.94L8.5 2.5l-.94 2.06-2.06.94zm10 10l.94 2.06.94-2.06 2.06-.94-2.06-.94-.94-2.06-.94 2.06-2.06.94z\"/><path d=\"M17.41 7.96l-1.37-1.37c-.4-.4-.92-.59-1.43-.59-.52 0-1.04.2-1.43.59L10.3 9.45l-7.72 7.72c-.78.78-.78 2.05 0 2.83L4 21.41c.39.39.9.59 1.41.59.51 0 1.02-.2 1.41-.59l7.78-7.78 2.81-2.81c.8-.78.8-2.07 0-2.86zM5.41 20L4 18.59l7.72-7.72 1.47 1.35L5.41 20z\"/>\n",
              "  </svg>\n",
              "      </button>\n",
              "      \n",
              "  <style>\n",
              "    .colab-df-container {\n",
              "      display:flex;\n",
              "      flex-wrap:wrap;\n",
              "      gap: 12px;\n",
              "    }\n",
              "\n",
              "    .colab-df-convert {\n",
              "      background-color: #E8F0FE;\n",
              "      border: none;\n",
              "      border-radius: 50%;\n",
              "      cursor: pointer;\n",
              "      display: none;\n",
              "      fill: #1967D2;\n",
              "      height: 32px;\n",
              "      padding: 0 0 0 0;\n",
              "      width: 32px;\n",
              "    }\n",
              "\n",
              "    .colab-df-convert:hover {\n",
              "      background-color: #E2EBFA;\n",
              "      box-shadow: 0px 1px 2px rgba(60, 64, 67, 0.3), 0px 1px 3px 1px rgba(60, 64, 67, 0.15);\n",
              "      fill: #174EA6;\n",
              "    }\n",
              "\n",
              "    [theme=dark] .colab-df-convert {\n",
              "      background-color: #3B4455;\n",
              "      fill: #D2E3FC;\n",
              "    }\n",
              "\n",
              "    [theme=dark] .colab-df-convert:hover {\n",
              "      background-color: #434B5C;\n",
              "      box-shadow: 0px 1px 3px 1px rgba(0, 0, 0, 0.15);\n",
              "      filter: drop-shadow(0px 1px 2px rgba(0, 0, 0, 0.3));\n",
              "      fill: #FFFFFF;\n",
              "    }\n",
              "  </style>\n",
              "\n",
              "      <script>\n",
              "        const buttonEl =\n",
              "          document.querySelector('#df-18a9ac12-b116-4be6-9248-f8dc61be46c3 button.colab-df-convert');\n",
              "        buttonEl.style.display =\n",
              "          google.colab.kernel.accessAllowed ? 'block' : 'none';\n",
              "\n",
              "        async function convertToInteractive(key) {\n",
              "          const element = document.querySelector('#df-18a9ac12-b116-4be6-9248-f8dc61be46c3');\n",
              "          const dataTable =\n",
              "            await google.colab.kernel.invokeFunction('convertToInteractive',\n",
              "                                                     [key], {});\n",
              "          if (!dataTable) return;\n",
              "\n",
              "          const docLinkHtml = 'Like what you see? Visit the ' +\n",
              "            '<a target=\"_blank\" href=https://colab.research.google.com/notebooks/data_table.ipynb>data table notebook</a>'\n",
              "            + ' to learn more about interactive tables.';\n",
              "          element.innerHTML = '';\n",
              "          dataTable['output_type'] = 'display_data';\n",
              "          await google.colab.output.renderOutput(dataTable, element);\n",
              "          const docLink = document.createElement('div');\n",
              "          docLink.innerHTML = docLinkHtml;\n",
              "          element.appendChild(docLink);\n",
              "        }\n",
              "      </script>\n",
              "    </div>\n",
              "  </div>\n",
              "  "
            ]
          },
          "metadata": {},
          "execution_count": 20
        }
      ],
      "id": "49ee4f90-9df6-40fa-b745-5f04fd0e3bc4"
    },
    {
      "cell_type": "code",
      "source": [
        "d_date = d_date.rename(columns = {0: 'Count'})\n",
        "d_date = d_date.reset_index()\n",
        "d_date.columns"
      ],
      "metadata": {
        "trusted": true,
        "colab": {
          "base_uri": "https://localhost:8080/",
          "height": 0
        },
        "id": "47df1f48-d24a-46ae-95b9-12f750db55d7",
        "outputId": "6ec25b3a-5150-4ac2-e58f-9e38b8668b0e"
      },
      "execution_count": 21,
      "outputs": [
        {
          "output_type": "execute_result",
          "data": {
            "text/plain": [
              "Index(['case_counts', 'DEATH_COUNT', 'CASE_COUNT'], dtype='object')"
            ]
          },
          "metadata": {},
          "execution_count": 21
        }
      ],
      "id": "47df1f48-d24a-46ae-95b9-12f750db55d7"
    },
    {
      "cell_type": "code",
      "source": [
        "x = d_date.iloc[:,-1].sum()\n",
        "x\n",
        "d_date['%'] = (d_date.iloc[:,-1]/x)*100\n",
        "d_date"
      ],
      "metadata": {
        "trusted": true,
        "colab": {
          "base_uri": "https://localhost:8080/",
          "height": 1209
        },
        "id": "aac5b0a1-ad47-4597-93df-6ec5df814441",
        "outputId": "bd48b6b3-64a6-4d25-bdf4-8cbe18c07d4f"
      },
      "execution_count": 22,
      "outputs": [
        {
          "output_type": "execute_result",
          "data": {
            "text/plain": [
              "   case_counts DEATH_COUNT  CASE_COUNT          %\n",
              "0    121 - 230         124           1   1.020408\n",
              "1    121 - 230         186           1   1.020408\n",
              "2    121 - 230         218           1   1.020408\n",
              "3    231 - 500         273           1   1.020408\n",
              "4    231 - 500         291           1   1.020408\n",
              "5    231 - 500         323           1   1.020408\n",
              "6    231 - 500         384           1   1.020408\n",
              "7    231 - 500         386           1   1.020408\n",
              "8    231 - 500         413           1   1.020408\n",
              "9    231 - 500         447           1   1.020408\n",
              "10   231 - 500         455           1   1.020408\n",
              "11   231 - 500         498           1   1.020408\n",
              "12   231 - 500         499           1   1.020408\n",
              "13      <= 120           0          13  13.265306\n",
              "14      <= 120           1           1   1.020408\n",
              "15      <= 120           2           1   1.020408\n",
              "16      <= 120           4           1   1.020408\n",
              "17      <= 120           8           2   2.040816\n",
              "18      <= 120          20           1   1.020408\n",
              "19      <= 120          24           1   1.020408\n",
              "20      <= 120          45           1   1.020408\n",
              "21      <= 120          48           1   1.020408\n",
              "22      <= 120          49           1   1.020408\n",
              "23      <= 120          82           1   1.020408\n",
              "24      <= 120          95           1   1.020408\n",
              "25       > 500         507           1   1.020408\n",
              "26       > 500         510           1   1.020408\n",
              "27       > 500         537           1   1.020408\n",
              "28       > 500         544           1   1.020408\n",
              "29       > 500         559           1   1.020408\n",
              "30       > 500         567           1   1.020408\n",
              "31       > 500         568           1   1.020408\n",
              "32       > 500         573           1   1.020408\n",
              "33       > 500         576           1   1.020408\n",
              "34       > 500         578           1   1.020408\n",
              "35       > 500         598           1   1.020408\n",
              "36         All                      49  50.000000"
            ],
            "text/html": [
              "\n",
              "  <div id=\"df-170284ca-8db9-4251-a40d-96637b105af9\">\n",
              "    <div class=\"colab-df-container\">\n",
              "      <div>\n",
              "<style scoped>\n",
              "    .dataframe tbody tr th:only-of-type {\n",
              "        vertical-align: middle;\n",
              "    }\n",
              "\n",
              "    .dataframe tbody tr th {\n",
              "        vertical-align: top;\n",
              "    }\n",
              "\n",
              "    .dataframe thead th {\n",
              "        text-align: right;\n",
              "    }\n",
              "</style>\n",
              "<table border=\"1\" class=\"dataframe\">\n",
              "  <thead>\n",
              "    <tr style=\"text-align: right;\">\n",
              "      <th></th>\n",
              "      <th>case_counts</th>\n",
              "      <th>DEATH_COUNT</th>\n",
              "      <th>CASE_COUNT</th>\n",
              "      <th>%</th>\n",
              "    </tr>\n",
              "  </thead>\n",
              "  <tbody>\n",
              "    <tr>\n",
              "      <th>0</th>\n",
              "      <td>121 - 230</td>\n",
              "      <td>124</td>\n",
              "      <td>1</td>\n",
              "      <td>1.020408</td>\n",
              "    </tr>\n",
              "    <tr>\n",
              "      <th>1</th>\n",
              "      <td>121 - 230</td>\n",
              "      <td>186</td>\n",
              "      <td>1</td>\n",
              "      <td>1.020408</td>\n",
              "    </tr>\n",
              "    <tr>\n",
              "      <th>2</th>\n",
              "      <td>121 - 230</td>\n",
              "      <td>218</td>\n",
              "      <td>1</td>\n",
              "      <td>1.020408</td>\n",
              "    </tr>\n",
              "    <tr>\n",
              "      <th>3</th>\n",
              "      <td>231 - 500</td>\n",
              "      <td>273</td>\n",
              "      <td>1</td>\n",
              "      <td>1.020408</td>\n",
              "    </tr>\n",
              "    <tr>\n",
              "      <th>4</th>\n",
              "      <td>231 - 500</td>\n",
              "      <td>291</td>\n",
              "      <td>1</td>\n",
              "      <td>1.020408</td>\n",
              "    </tr>\n",
              "    <tr>\n",
              "      <th>5</th>\n",
              "      <td>231 - 500</td>\n",
              "      <td>323</td>\n",
              "      <td>1</td>\n",
              "      <td>1.020408</td>\n",
              "    </tr>\n",
              "    <tr>\n",
              "      <th>6</th>\n",
              "      <td>231 - 500</td>\n",
              "      <td>384</td>\n",
              "      <td>1</td>\n",
              "      <td>1.020408</td>\n",
              "    </tr>\n",
              "    <tr>\n",
              "      <th>7</th>\n",
              "      <td>231 - 500</td>\n",
              "      <td>386</td>\n",
              "      <td>1</td>\n",
              "      <td>1.020408</td>\n",
              "    </tr>\n",
              "    <tr>\n",
              "      <th>8</th>\n",
              "      <td>231 - 500</td>\n",
              "      <td>413</td>\n",
              "      <td>1</td>\n",
              "      <td>1.020408</td>\n",
              "    </tr>\n",
              "    <tr>\n",
              "      <th>9</th>\n",
              "      <td>231 - 500</td>\n",
              "      <td>447</td>\n",
              "      <td>1</td>\n",
              "      <td>1.020408</td>\n",
              "    </tr>\n",
              "    <tr>\n",
              "      <th>10</th>\n",
              "      <td>231 - 500</td>\n",
              "      <td>455</td>\n",
              "      <td>1</td>\n",
              "      <td>1.020408</td>\n",
              "    </tr>\n",
              "    <tr>\n",
              "      <th>11</th>\n",
              "      <td>231 - 500</td>\n",
              "      <td>498</td>\n",
              "      <td>1</td>\n",
              "      <td>1.020408</td>\n",
              "    </tr>\n",
              "    <tr>\n",
              "      <th>12</th>\n",
              "      <td>231 - 500</td>\n",
              "      <td>499</td>\n",
              "      <td>1</td>\n",
              "      <td>1.020408</td>\n",
              "    </tr>\n",
              "    <tr>\n",
              "      <th>13</th>\n",
              "      <td>&lt;= 120</td>\n",
              "      <td>0</td>\n",
              "      <td>13</td>\n",
              "      <td>13.265306</td>\n",
              "    </tr>\n",
              "    <tr>\n",
              "      <th>14</th>\n",
              "      <td>&lt;= 120</td>\n",
              "      <td>1</td>\n",
              "      <td>1</td>\n",
              "      <td>1.020408</td>\n",
              "    </tr>\n",
              "    <tr>\n",
              "      <th>15</th>\n",
              "      <td>&lt;= 120</td>\n",
              "      <td>2</td>\n",
              "      <td>1</td>\n",
              "      <td>1.020408</td>\n",
              "    </tr>\n",
              "    <tr>\n",
              "      <th>16</th>\n",
              "      <td>&lt;= 120</td>\n",
              "      <td>4</td>\n",
              "      <td>1</td>\n",
              "      <td>1.020408</td>\n",
              "    </tr>\n",
              "    <tr>\n",
              "      <th>17</th>\n",
              "      <td>&lt;= 120</td>\n",
              "      <td>8</td>\n",
              "      <td>2</td>\n",
              "      <td>2.040816</td>\n",
              "    </tr>\n",
              "    <tr>\n",
              "      <th>18</th>\n",
              "      <td>&lt;= 120</td>\n",
              "      <td>20</td>\n",
              "      <td>1</td>\n",
              "      <td>1.020408</td>\n",
              "    </tr>\n",
              "    <tr>\n",
              "      <th>19</th>\n",
              "      <td>&lt;= 120</td>\n",
              "      <td>24</td>\n",
              "      <td>1</td>\n",
              "      <td>1.020408</td>\n",
              "    </tr>\n",
              "    <tr>\n",
              "      <th>20</th>\n",
              "      <td>&lt;= 120</td>\n",
              "      <td>45</td>\n",
              "      <td>1</td>\n",
              "      <td>1.020408</td>\n",
              "    </tr>\n",
              "    <tr>\n",
              "      <th>21</th>\n",
              "      <td>&lt;= 120</td>\n",
              "      <td>48</td>\n",
              "      <td>1</td>\n",
              "      <td>1.020408</td>\n",
              "    </tr>\n",
              "    <tr>\n",
              "      <th>22</th>\n",
              "      <td>&lt;= 120</td>\n",
              "      <td>49</td>\n",
              "      <td>1</td>\n",
              "      <td>1.020408</td>\n",
              "    </tr>\n",
              "    <tr>\n",
              "      <th>23</th>\n",
              "      <td>&lt;= 120</td>\n",
              "      <td>82</td>\n",
              "      <td>1</td>\n",
              "      <td>1.020408</td>\n",
              "    </tr>\n",
              "    <tr>\n",
              "      <th>24</th>\n",
              "      <td>&lt;= 120</td>\n",
              "      <td>95</td>\n",
              "      <td>1</td>\n",
              "      <td>1.020408</td>\n",
              "    </tr>\n",
              "    <tr>\n",
              "      <th>25</th>\n",
              "      <td>&gt; 500</td>\n",
              "      <td>507</td>\n",
              "      <td>1</td>\n",
              "      <td>1.020408</td>\n",
              "    </tr>\n",
              "    <tr>\n",
              "      <th>26</th>\n",
              "      <td>&gt; 500</td>\n",
              "      <td>510</td>\n",
              "      <td>1</td>\n",
              "      <td>1.020408</td>\n",
              "    </tr>\n",
              "    <tr>\n",
              "      <th>27</th>\n",
              "      <td>&gt; 500</td>\n",
              "      <td>537</td>\n",
              "      <td>1</td>\n",
              "      <td>1.020408</td>\n",
              "    </tr>\n",
              "    <tr>\n",
              "      <th>28</th>\n",
              "      <td>&gt; 500</td>\n",
              "      <td>544</td>\n",
              "      <td>1</td>\n",
              "      <td>1.020408</td>\n",
              "    </tr>\n",
              "    <tr>\n",
              "      <th>29</th>\n",
              "      <td>&gt; 500</td>\n",
              "      <td>559</td>\n",
              "      <td>1</td>\n",
              "      <td>1.020408</td>\n",
              "    </tr>\n",
              "    <tr>\n",
              "      <th>30</th>\n",
              "      <td>&gt; 500</td>\n",
              "      <td>567</td>\n",
              "      <td>1</td>\n",
              "      <td>1.020408</td>\n",
              "    </tr>\n",
              "    <tr>\n",
              "      <th>31</th>\n",
              "      <td>&gt; 500</td>\n",
              "      <td>568</td>\n",
              "      <td>1</td>\n",
              "      <td>1.020408</td>\n",
              "    </tr>\n",
              "    <tr>\n",
              "      <th>32</th>\n",
              "      <td>&gt; 500</td>\n",
              "      <td>573</td>\n",
              "      <td>1</td>\n",
              "      <td>1.020408</td>\n",
              "    </tr>\n",
              "    <tr>\n",
              "      <th>33</th>\n",
              "      <td>&gt; 500</td>\n",
              "      <td>576</td>\n",
              "      <td>1</td>\n",
              "      <td>1.020408</td>\n",
              "    </tr>\n",
              "    <tr>\n",
              "      <th>34</th>\n",
              "      <td>&gt; 500</td>\n",
              "      <td>578</td>\n",
              "      <td>1</td>\n",
              "      <td>1.020408</td>\n",
              "    </tr>\n",
              "    <tr>\n",
              "      <th>35</th>\n",
              "      <td>&gt; 500</td>\n",
              "      <td>598</td>\n",
              "      <td>1</td>\n",
              "      <td>1.020408</td>\n",
              "    </tr>\n",
              "    <tr>\n",
              "      <th>36</th>\n",
              "      <td>All</td>\n",
              "      <td></td>\n",
              "      <td>49</td>\n",
              "      <td>50.000000</td>\n",
              "    </tr>\n",
              "  </tbody>\n",
              "</table>\n",
              "</div>\n",
              "      <button class=\"colab-df-convert\" onclick=\"convertToInteractive('df-170284ca-8db9-4251-a40d-96637b105af9')\"\n",
              "              title=\"Convert this dataframe to an interactive table.\"\n",
              "              style=\"display:none;\">\n",
              "        \n",
              "  <svg xmlns=\"http://www.w3.org/2000/svg\" height=\"24px\"viewBox=\"0 0 24 24\"\n",
              "       width=\"24px\">\n",
              "    <path d=\"M0 0h24v24H0V0z\" fill=\"none\"/>\n",
              "    <path d=\"M18.56 5.44l.94 2.06.94-2.06 2.06-.94-2.06-.94-.94-2.06-.94 2.06-2.06.94zm-11 1L8.5 8.5l.94-2.06 2.06-.94-2.06-.94L8.5 2.5l-.94 2.06-2.06.94zm10 10l.94 2.06.94-2.06 2.06-.94-2.06-.94-.94-2.06-.94 2.06-2.06.94z\"/><path d=\"M17.41 7.96l-1.37-1.37c-.4-.4-.92-.59-1.43-.59-.52 0-1.04.2-1.43.59L10.3 9.45l-7.72 7.72c-.78.78-.78 2.05 0 2.83L4 21.41c.39.39.9.59 1.41.59.51 0 1.02-.2 1.41-.59l7.78-7.78 2.81-2.81c.8-.78.8-2.07 0-2.86zM5.41 20L4 18.59l7.72-7.72 1.47 1.35L5.41 20z\"/>\n",
              "  </svg>\n",
              "      </button>\n",
              "      \n",
              "  <style>\n",
              "    .colab-df-container {\n",
              "      display:flex;\n",
              "      flex-wrap:wrap;\n",
              "      gap: 12px;\n",
              "    }\n",
              "\n",
              "    .colab-df-convert {\n",
              "      background-color: #E8F0FE;\n",
              "      border: none;\n",
              "      border-radius: 50%;\n",
              "      cursor: pointer;\n",
              "      display: none;\n",
              "      fill: #1967D2;\n",
              "      height: 32px;\n",
              "      padding: 0 0 0 0;\n",
              "      width: 32px;\n",
              "    }\n",
              "\n",
              "    .colab-df-convert:hover {\n",
              "      background-color: #E2EBFA;\n",
              "      box-shadow: 0px 1px 2px rgba(60, 64, 67, 0.3), 0px 1px 3px 1px rgba(60, 64, 67, 0.15);\n",
              "      fill: #174EA6;\n",
              "    }\n",
              "\n",
              "    [theme=dark] .colab-df-convert {\n",
              "      background-color: #3B4455;\n",
              "      fill: #D2E3FC;\n",
              "    }\n",
              "\n",
              "    [theme=dark] .colab-df-convert:hover {\n",
              "      background-color: #434B5C;\n",
              "      box-shadow: 0px 1px 3px 1px rgba(0, 0, 0, 0.15);\n",
              "      filter: drop-shadow(0px 1px 2px rgba(0, 0, 0, 0.3));\n",
              "      fill: #FFFFFF;\n",
              "    }\n",
              "  </style>\n",
              "\n",
              "      <script>\n",
              "        const buttonEl =\n",
              "          document.querySelector('#df-170284ca-8db9-4251-a40d-96637b105af9 button.colab-df-convert');\n",
              "        buttonEl.style.display =\n",
              "          google.colab.kernel.accessAllowed ? 'block' : 'none';\n",
              "\n",
              "        async function convertToInteractive(key) {\n",
              "          const element = document.querySelector('#df-170284ca-8db9-4251-a40d-96637b105af9');\n",
              "          const dataTable =\n",
              "            await google.colab.kernel.invokeFunction('convertToInteractive',\n",
              "                                                     [key], {});\n",
              "          if (!dataTable) return;\n",
              "\n",
              "          const docLinkHtml = 'Like what you see? Visit the ' +\n",
              "            '<a target=\"_blank\" href=https://colab.research.google.com/notebooks/data_table.ipynb>data table notebook</a>'\n",
              "            + ' to learn more about interactive tables.';\n",
              "          element.innerHTML = '';\n",
              "          dataTable['output_type'] = 'display_data';\n",
              "          await google.colab.output.renderOutput(dataTable, element);\n",
              "          const docLink = document.createElement('div');\n",
              "          docLink.innerHTML = docLinkHtml;\n",
              "          element.appendChild(docLink);\n",
              "        }\n",
              "      </script>\n",
              "    </div>\n",
              "  </div>\n",
              "  "
            ]
          },
          "metadata": {},
          "execution_count": 22
        }
      ],
      "id": "aac5b0a1-ad47-4597-93df-6ec5df814441"
    },
    {
      "cell_type": "code",
      "source": [
        "plot_order = ['<= 120', '121 - 230', '231 - 500', '> 500']"
      ],
      "metadata": {
        "trusted": true,
        "id": "2fac30d0-98be-479f-9b27-0dfa321be0e3"
      },
      "execution_count": 23,
      "outputs": [],
      "id": "2fac30d0-98be-479f-9b27-0dfa321be0e3"
    },
    {
      "cell_type": "code",
      "source": [
        "import matplotlib as mpl\n",
        "import matplotlib.pyplot as plt\n",
        "import plotly.express as px"
      ],
      "metadata": {
        "trusted": true,
        "id": "8f7b7bb0-9508-427a-8214-0ea374cf7645"
      },
      "execution_count": 24,
      "outputs": [],
      "id": "8f7b7bb0-9508-427a-8214-0ea374cf7645"
    },
    {
      "cell_type": "code",
      "source": [
        "#pip install plotly"
      ],
      "metadata": {
        "trusted": true,
        "id": "8e8a4a70-2cd3-4a70-9831-7b05e3c20755"
      },
      "execution_count": 25,
      "outputs": [],
      "id": "8e8a4a70-2cd3-4a70-9831-7b05e3c20755"
    },
    {
      "cell_type": "code",
      "source": [
        "#pip install seaborn"
      ],
      "metadata": {
        "trusted": true,
        "id": "b0450a7b-7d6d-438e-baa3-cb529224fbc7"
      },
      "execution_count": 26,
      "outputs": [],
      "id": "b0450a7b-7d6d-438e-baa3-cb529224fbc7"
    },
    {
      "cell_type": "code",
      "source": [
        "y = pd.DataFrame(df['DEATH_COUNT'])\n",
        "x = pd.DataFrame(df['CASE_COUNT'])"
      ],
      "metadata": {
        "trusted": true,
        "id": "acb0b7c1-4c47-4a15-a37f-0d7b6efb80e6"
      },
      "execution_count": 27,
      "outputs": [],
      "id": "acb0b7c1-4c47-4a15-a37f-0d7b6efb80e6"
    },
    {
      "cell_type": "code",
      "source": [
        "lm = linear_model.LinearRegression()\n",
        "model_lm = lm.fit(x,y)\n",
        "model_lm"
      ],
      "metadata": {
        "trusted": true,
        "colab": {
          "base_uri": "https://localhost:8080/",
          "height": 0
        },
        "id": "c56fc231-4b1d-4db5-8ca8-cf789ab47e47",
        "outputId": "b9909424-914d-4109-dc29-5d49c579a19d"
      },
      "execution_count": 29,
      "outputs": [
        {
          "output_type": "execute_result",
          "data": {
            "text/plain": [
              "LinearRegression()"
            ]
          },
          "metadata": {},
          "execution_count": 29
        }
      ],
      "id": "c56fc231-4b1d-4db5-8ca8-cf789ab47e47"
    },
    {
      "cell_type": "code",
      "source": [
        "from sklearn import linear_model"
      ],
      "metadata": {
        "trusted": true,
        "id": "7d2e799d-bd54-4f54-aafe-821b3d2803ea"
      },
      "execution_count": 30,
      "outputs": [],
      "id": "7d2e799d-bd54-4f54-aafe-821b3d2803ea"
    },
    {
      "cell_type": "code",
      "source": [
        "pip install sklearn"
      ],
      "metadata": {
        "trusted": true,
        "colab": {
          "base_uri": "https://localhost:8080/",
          "height": 0
        },
        "id": "3068fe37-cb01-4b40-badf-eec513afdef7",
        "outputId": "d4f21c31-b957-4fc5-f199-68d9e076e024"
      },
      "execution_count": 31,
      "outputs": [
        {
          "output_type": "stream",
          "name": "stdout",
          "text": [
            "Requirement already satisfied: sklearn in /usr/local/lib/python3.7/dist-packages (0.0)\n",
            "Requirement already satisfied: scikit-learn in /usr/local/lib/python3.7/dist-packages (from sklearn) (1.0.2)\n",
            "Requirement already satisfied: joblib>=0.11 in /usr/local/lib/python3.7/dist-packages (from scikit-learn->sklearn) (1.1.0)\n",
            "Requirement already satisfied: threadpoolctl>=2.0.0 in /usr/local/lib/python3.7/dist-packages (from scikit-learn->sklearn) (3.1.0)\n",
            "Requirement already satisfied: scipy>=1.1.0 in /usr/local/lib/python3.7/dist-packages (from scikit-learn->sklearn) (1.4.1)\n",
            "Requirement already satisfied: numpy>=1.14.6 in /usr/local/lib/python3.7/dist-packages (from scikit-learn->sklearn) (1.21.5)\n"
          ]
        }
      ],
      "id": "3068fe37-cb01-4b40-badf-eec513afdef7"
    },
    {
      "cell_type": "code",
      "source": [
        "modelA = sm.OLS.from_formula('DEATH_COUNT~CASE_COUNT', data = df)\n",
        "resultA = modelA.fit()\n",
        "resultA.summary()"
      ],
      "metadata": {
        "trusted": true,
        "colab": {
          "base_uri": "https://localhost:8080/",
          "height": 483
        },
        "id": "8713adec-0cc3-4ac2-adfc-57157ebe2ad4",
        "outputId": "0976d592-7cdb-4648-ba0a-cee40525a6d4"
      },
      "execution_count": 34,
      "outputs": [
        {
          "output_type": "execute_result",
          "data": {
            "text/plain": [
              "<class 'statsmodels.iolib.summary.Summary'>\n",
              "\"\"\"\n",
              "                            OLS Regression Results                            \n",
              "==============================================================================\n",
              "Dep. Variable:            DEATH_COUNT   R-squared:                       0.567\n",
              "Model:                            OLS   Adj. R-squared:                  0.558\n",
              "Method:                 Least Squares   F-statistic:                     61.55\n",
              "Date:                Fri, 18 Mar 2022   Prob (F-statistic):           4.33e-10\n",
              "Time:                        22:31:38   Log-Likelihood:                -316.45\n",
              "No. Observations:                  49   AIC:                             636.9\n",
              "Df Residuals:                      47   BIC:                             640.7\n",
              "Df Model:                           1                                         \n",
              "Covariance Type:            nonrobust                                         \n",
              "==============================================================================\n",
              "                 coef    std err          t      P>|t|      [0.025      0.975]\n",
              "------------------------------------------------------------------------------\n",
              "Intercept    -17.1745     38.153     -0.450      0.655     -93.928      59.579\n",
              "CASE_COUNT     0.0832      0.011      7.846      0.000       0.062       0.105\n",
              "==============================================================================\n",
              "Omnibus:                        0.318   Durbin-Watson:                   0.208\n",
              "Prob(Omnibus):                  0.853   Jarque-Bera (JB):                0.499\n",
              "Skew:                           0.077   Prob(JB):                        0.779\n",
              "Kurtosis:                       2.530   Cond. No.                     6.10e+03\n",
              "==============================================================================\n",
              "\n",
              "Warnings:\n",
              "[1] Standard Errors assume that the covariance matrix of the errors is correctly specified.\n",
              "[2] The condition number is large, 6.1e+03. This might indicate that there are\n",
              "strong multicollinearity or other numerical problems.\n",
              "\"\"\""
            ],
            "text/html": [
              "<table class=\"simpletable\">\n",
              "<caption>OLS Regression Results</caption>\n",
              "<tr>\n",
              "  <th>Dep. Variable:</th>       <td>DEATH_COUNT</td>   <th>  R-squared:         </th> <td>   0.567</td>\n",
              "</tr>\n",
              "<tr>\n",
              "  <th>Model:</th>                   <td>OLS</td>       <th>  Adj. R-squared:    </th> <td>   0.558</td>\n",
              "</tr>\n",
              "<tr>\n",
              "  <th>Method:</th>             <td>Least Squares</td>  <th>  F-statistic:       </th> <td>   61.55</td>\n",
              "</tr>\n",
              "<tr>\n",
              "  <th>Date:</th>             <td>Fri, 18 Mar 2022</td> <th>  Prob (F-statistic):</th> <td>4.33e-10</td>\n",
              "</tr>\n",
              "<tr>\n",
              "  <th>Time:</th>                 <td>22:31:38</td>     <th>  Log-Likelihood:    </th> <td> -316.45</td>\n",
              "</tr>\n",
              "<tr>\n",
              "  <th>No. Observations:</th>      <td>    49</td>      <th>  AIC:               </th> <td>   636.9</td>\n",
              "</tr>\n",
              "<tr>\n",
              "  <th>Df Residuals:</th>          <td>    47</td>      <th>  BIC:               </th> <td>   640.7</td>\n",
              "</tr>\n",
              "<tr>\n",
              "  <th>Df Model:</th>              <td>     1</td>      <th>                     </th>     <td> </td>   \n",
              "</tr>\n",
              "<tr>\n",
              "  <th>Covariance Type:</th>      <td>nonrobust</td>    <th>                     </th>     <td> </td>   \n",
              "</tr>\n",
              "</table>\n",
              "<table class=\"simpletable\">\n",
              "<tr>\n",
              "       <td></td>         <th>coef</th>     <th>std err</th>      <th>t</th>      <th>P>|t|</th>  <th>[0.025</th>    <th>0.975]</th>  \n",
              "</tr>\n",
              "<tr>\n",
              "  <th>Intercept</th>  <td>  -17.1745</td> <td>   38.153</td> <td>   -0.450</td> <td> 0.655</td> <td>  -93.928</td> <td>   59.579</td>\n",
              "</tr>\n",
              "<tr>\n",
              "  <th>CASE_COUNT</th> <td>    0.0832</td> <td>    0.011</td> <td>    7.846</td> <td> 0.000</td> <td>    0.062</td> <td>    0.105</td>\n",
              "</tr>\n",
              "</table>\n",
              "<table class=\"simpletable\">\n",
              "<tr>\n",
              "  <th>Omnibus:</th>       <td> 0.318</td> <th>  Durbin-Watson:     </th> <td>   0.208</td>\n",
              "</tr>\n",
              "<tr>\n",
              "  <th>Prob(Omnibus):</th> <td> 0.853</td> <th>  Jarque-Bera (JB):  </th> <td>   0.499</td>\n",
              "</tr>\n",
              "<tr>\n",
              "  <th>Skew:</th>          <td> 0.077</td> <th>  Prob(JB):          </th> <td>   0.779</td>\n",
              "</tr>\n",
              "<tr>\n",
              "  <th>Kurtosis:</th>      <td> 2.530</td> <th>  Cond. No.          </th> <td>6.10e+03</td>\n",
              "</tr>\n",
              "</table><br/><br/>Warnings:<br/>[1] Standard Errors assume that the covariance matrix of the errors is correctly specified.<br/>[2] The condition number is large, 6.1e+03. This might indicate that there are<br/>strong multicollinearity or other numerical problems."
            ]
          },
          "metadata": {},
          "execution_count": 34
        }
      ],
      "id": "8713adec-0cc3-4ac2-adfc-57157ebe2ad4"
    },
    {
      "cell_type": "code",
      "source": [
        "import statsmodels.api as sm"
      ],
      "metadata": {
        "trusted": true,
        "id": "a8014212-8c08-4afb-95a7-3386b2dd129b"
      },
      "execution_count": 35,
      "outputs": [],
      "id": "a8014212-8c08-4afb-95a7-3386b2dd129b"
    },
    {
      "cell_type": "code",
      "source": [
        "#pip install statsmodels"
      ],
      "metadata": {
        "trusted": true,
        "id": "8a2d084d-8fae-4ba8-9a61-01dff7a49352"
      },
      "execution_count": 36,
      "outputs": [],
      "id": "8a2d084d-8fae-4ba8-9a61-01dff7a49352"
    },
    {
      "cell_type": "code",
      "source": [
        "RESI_A = resultA.resid\n",
        "RESI_A"
      ],
      "metadata": {
        "trusted": true,
        "colab": {
          "base_uri": "https://localhost:8080/",
          "height": 0
        },
        "id": "9575071e-3878-4811-b7f0-68d9e5f1b7ae",
        "outputId": "53d2fcb5-7f13-4148-c667-2fc857402920"
      },
      "execution_count": 37,
      "outputs": [
        {
          "output_type": "execute_result",
          "data": {
            "text/plain": [
              "DATE_OF_INTEREST\n",
              "02/29/2020     17.091274\n",
              "03/01/20       17.174482\n",
              "03/02/20       17.174482\n",
              "03/03/20       17.091274\n",
              "03/04/20       16.758443\n",
              "03/05/20       16.924859\n",
              "03/06/20       16.508820\n",
              "03/07/20       16.592028\n",
              "03/08/20       15.427119\n",
              "03/09/20       12.431638\n",
              "03/10/20       11.433145\n",
              "03/11/20        5.277275\n",
              "03/12/20      -12.364282\n",
              "03/13/2020    -34.331137\n",
              "03/14/2020    -34.244916\n",
              "03/15/2020    -64.945576\n",
              "03/16/2020   -151.309232\n",
              "03/17/2020   -178.851009\n",
              "03/18/2020   -210.035850\n",
              "03/19/2020   -267.193572\n",
              "03/20/2020   -268.155908\n",
              "03/21/2020   -157.410865\n",
              "03/22/2020   -148.501605\n",
              "03/23/2020   -197.877313\n",
              "03/24/2020   -262.010931\n",
              "03/25/2020   -264.380266\n",
              "03/26/2020   -216.525590\n",
              "03/27/2020   -190.766173\n",
              "03/28/2020      0.694595\n",
              "03/29/2020     11.954765\n",
              "03/30/2020   -169.806037\n",
              "03/31/2020    -50.973613\n",
              "04/01/20       10.775257\n",
              "04/02/20       37.062545\n",
              "04/03/20       44.386337\n",
              "04/04/20      205.493182\n",
              "04/05/20      280.649052\n",
              "04/06/20       64.555419\n",
              "04/07/20      112.266625\n",
              "04/08/20      121.291076\n",
              "04/09/20      154.311008\n",
              "04/10/20      178.907368\n",
              "04/11/20      250.643025\n",
              "04/12/20      349.870397\n",
              "04/13/2020    308.673503\n",
              "04/14/2020    179.361418\n",
              "04/15/2020    149.661104\n",
              "04/16/2020    136.450998\n",
              "04/17/2020    102.791362\n",
              "dtype: float64"
            ]
          },
          "metadata": {},
          "execution_count": 37
        }
      ],
      "id": "9575071e-3878-4811-b7f0-68d9e5f1b7ae"
    },
    {
      "cell_type": "code",
      "source": [
        "predicted_values = resultA.fittedvalues.to_frame()\n",
        "predicted_values"
      ],
      "metadata": {
        "trusted": true,
        "colab": {
          "base_uri": "https://localhost:8080/",
          "height": 1616
        },
        "id": "bd00e879-815e-454d-af83-9a82b99759e0",
        "outputId": "a0ef446a-a8ba-424b-c5b3-53a84d4ea28c"
      },
      "execution_count": 38,
      "outputs": [
        {
          "output_type": "execute_result",
          "data": {
            "text/plain": [
              "                           0\n",
              "DATE_OF_INTEREST            \n",
              "02/29/2020        -17.091274\n",
              "03/01/20          -17.174482\n",
              "03/02/20          -17.174482\n",
              "03/03/20          -17.091274\n",
              "03/04/20          -16.758443\n",
              "03/05/20          -16.924859\n",
              "03/06/20          -16.508820\n",
              "03/07/20          -16.592028\n",
              "03/08/20          -15.427119\n",
              "03/09/20          -12.431638\n",
              "03/10/20          -11.433145\n",
              "03/11/20           -4.277275\n",
              "03/12/20           12.364282\n",
              "03/13/2020         34.331137\n",
              "03/14/2020         36.244916\n",
              "03/15/2020         68.945576\n",
              "03/16/2020        159.309232\n",
              "03/17/2020        186.851009\n",
              "03/18/2020        230.035850\n",
              "03/19/2020        291.193572\n",
              "03/20/2020        316.155908\n",
              "03/21/2020        202.410865\n",
              "03/22/2020        197.501605\n",
              "03/23/2020        279.877313\n",
              "03/24/2020        357.010931\n",
              "03/25/2020        388.380266\n",
              "03/26/2020        402.525590\n",
              "03/27/2020        408.766173\n",
              "03/28/2020        272.305405\n",
              "03/29/2020        279.045235\n",
              "03/30/2020        492.806037\n",
              "03/31/2020        436.973613\n",
              "04/01/20          436.224743\n",
              "04/02/20          460.937455\n",
              "04/03/20          454.613663\n",
              "04/04/20          304.506818\n",
              "04/05/20          297.350948\n",
              "04/06/20          511.444581\n",
              "04/07/20          485.733375\n",
              "04/08/20          446.708924\n",
              "04/09/20          404.688992\n",
              "04/10/20          358.092632\n",
              "04/11/20          293.356975\n",
              "04/12/20          223.129603\n",
              "04/13/2020        258.326497\n",
              "04/14/2020        327.638582\n",
              "04/15/2020        305.338896\n",
              "04/16/2020        276.549002\n",
              "04/17/2020        281.208638"
            ],
            "text/html": [
              "\n",
              "  <div id=\"df-05bd0711-c451-4ed3-95bc-ed933258cc59\">\n",
              "    <div class=\"colab-df-container\">\n",
              "      <div>\n",
              "<style scoped>\n",
              "    .dataframe tbody tr th:only-of-type {\n",
              "        vertical-align: middle;\n",
              "    }\n",
              "\n",
              "    .dataframe tbody tr th {\n",
              "        vertical-align: top;\n",
              "    }\n",
              "\n",
              "    .dataframe thead th {\n",
              "        text-align: right;\n",
              "    }\n",
              "</style>\n",
              "<table border=\"1\" class=\"dataframe\">\n",
              "  <thead>\n",
              "    <tr style=\"text-align: right;\">\n",
              "      <th></th>\n",
              "      <th>0</th>\n",
              "    </tr>\n",
              "    <tr>\n",
              "      <th>DATE_OF_INTEREST</th>\n",
              "      <th></th>\n",
              "    </tr>\n",
              "  </thead>\n",
              "  <tbody>\n",
              "    <tr>\n",
              "      <th>02/29/2020</th>\n",
              "      <td>-17.091274</td>\n",
              "    </tr>\n",
              "    <tr>\n",
              "      <th>03/01/20</th>\n",
              "      <td>-17.174482</td>\n",
              "    </tr>\n",
              "    <tr>\n",
              "      <th>03/02/20</th>\n",
              "      <td>-17.174482</td>\n",
              "    </tr>\n",
              "    <tr>\n",
              "      <th>03/03/20</th>\n",
              "      <td>-17.091274</td>\n",
              "    </tr>\n",
              "    <tr>\n",
              "      <th>03/04/20</th>\n",
              "      <td>-16.758443</td>\n",
              "    </tr>\n",
              "    <tr>\n",
              "      <th>03/05/20</th>\n",
              "      <td>-16.924859</td>\n",
              "    </tr>\n",
              "    <tr>\n",
              "      <th>03/06/20</th>\n",
              "      <td>-16.508820</td>\n",
              "    </tr>\n",
              "    <tr>\n",
              "      <th>03/07/20</th>\n",
              "      <td>-16.592028</td>\n",
              "    </tr>\n",
              "    <tr>\n",
              "      <th>03/08/20</th>\n",
              "      <td>-15.427119</td>\n",
              "    </tr>\n",
              "    <tr>\n",
              "      <th>03/09/20</th>\n",
              "      <td>-12.431638</td>\n",
              "    </tr>\n",
              "    <tr>\n",
              "      <th>03/10/20</th>\n",
              "      <td>-11.433145</td>\n",
              "    </tr>\n",
              "    <tr>\n",
              "      <th>03/11/20</th>\n",
              "      <td>-4.277275</td>\n",
              "    </tr>\n",
              "    <tr>\n",
              "      <th>03/12/20</th>\n",
              "      <td>12.364282</td>\n",
              "    </tr>\n",
              "    <tr>\n",
              "      <th>03/13/2020</th>\n",
              "      <td>34.331137</td>\n",
              "    </tr>\n",
              "    <tr>\n",
              "      <th>03/14/2020</th>\n",
              "      <td>36.244916</td>\n",
              "    </tr>\n",
              "    <tr>\n",
              "      <th>03/15/2020</th>\n",
              "      <td>68.945576</td>\n",
              "    </tr>\n",
              "    <tr>\n",
              "      <th>03/16/2020</th>\n",
              "      <td>159.309232</td>\n",
              "    </tr>\n",
              "    <tr>\n",
              "      <th>03/17/2020</th>\n",
              "      <td>186.851009</td>\n",
              "    </tr>\n",
              "    <tr>\n",
              "      <th>03/18/2020</th>\n",
              "      <td>230.035850</td>\n",
              "    </tr>\n",
              "    <tr>\n",
              "      <th>03/19/2020</th>\n",
              "      <td>291.193572</td>\n",
              "    </tr>\n",
              "    <tr>\n",
              "      <th>03/20/2020</th>\n",
              "      <td>316.155908</td>\n",
              "    </tr>\n",
              "    <tr>\n",
              "      <th>03/21/2020</th>\n",
              "      <td>202.410865</td>\n",
              "    </tr>\n",
              "    <tr>\n",
              "      <th>03/22/2020</th>\n",
              "      <td>197.501605</td>\n",
              "    </tr>\n",
              "    <tr>\n",
              "      <th>03/23/2020</th>\n",
              "      <td>279.877313</td>\n",
              "    </tr>\n",
              "    <tr>\n",
              "      <th>03/24/2020</th>\n",
              "      <td>357.010931</td>\n",
              "    </tr>\n",
              "    <tr>\n",
              "      <th>03/25/2020</th>\n",
              "      <td>388.380266</td>\n",
              "    </tr>\n",
              "    <tr>\n",
              "      <th>03/26/2020</th>\n",
              "      <td>402.525590</td>\n",
              "    </tr>\n",
              "    <tr>\n",
              "      <th>03/27/2020</th>\n",
              "      <td>408.766173</td>\n",
              "    </tr>\n",
              "    <tr>\n",
              "      <th>03/28/2020</th>\n",
              "      <td>272.305405</td>\n",
              "    </tr>\n",
              "    <tr>\n",
              "      <th>03/29/2020</th>\n",
              "      <td>279.045235</td>\n",
              "    </tr>\n",
              "    <tr>\n",
              "      <th>03/30/2020</th>\n",
              "      <td>492.806037</td>\n",
              "    </tr>\n",
              "    <tr>\n",
              "      <th>03/31/2020</th>\n",
              "      <td>436.973613</td>\n",
              "    </tr>\n",
              "    <tr>\n",
              "      <th>04/01/20</th>\n",
              "      <td>436.224743</td>\n",
              "    </tr>\n",
              "    <tr>\n",
              "      <th>04/02/20</th>\n",
              "      <td>460.937455</td>\n",
              "    </tr>\n",
              "    <tr>\n",
              "      <th>04/03/20</th>\n",
              "      <td>454.613663</td>\n",
              "    </tr>\n",
              "    <tr>\n",
              "      <th>04/04/20</th>\n",
              "      <td>304.506818</td>\n",
              "    </tr>\n",
              "    <tr>\n",
              "      <th>04/05/20</th>\n",
              "      <td>297.350948</td>\n",
              "    </tr>\n",
              "    <tr>\n",
              "      <th>04/06/20</th>\n",
              "      <td>511.444581</td>\n",
              "    </tr>\n",
              "    <tr>\n",
              "      <th>04/07/20</th>\n",
              "      <td>485.733375</td>\n",
              "    </tr>\n",
              "    <tr>\n",
              "      <th>04/08/20</th>\n",
              "      <td>446.708924</td>\n",
              "    </tr>\n",
              "    <tr>\n",
              "      <th>04/09/20</th>\n",
              "      <td>404.688992</td>\n",
              "    </tr>\n",
              "    <tr>\n",
              "      <th>04/10/20</th>\n",
              "      <td>358.092632</td>\n",
              "    </tr>\n",
              "    <tr>\n",
              "      <th>04/11/20</th>\n",
              "      <td>293.356975</td>\n",
              "    </tr>\n",
              "    <tr>\n",
              "      <th>04/12/20</th>\n",
              "      <td>223.129603</td>\n",
              "    </tr>\n",
              "    <tr>\n",
              "      <th>04/13/2020</th>\n",
              "      <td>258.326497</td>\n",
              "    </tr>\n",
              "    <tr>\n",
              "      <th>04/14/2020</th>\n",
              "      <td>327.638582</td>\n",
              "    </tr>\n",
              "    <tr>\n",
              "      <th>04/15/2020</th>\n",
              "      <td>305.338896</td>\n",
              "    </tr>\n",
              "    <tr>\n",
              "      <th>04/16/2020</th>\n",
              "      <td>276.549002</td>\n",
              "    </tr>\n",
              "    <tr>\n",
              "      <th>04/17/2020</th>\n",
              "      <td>281.208638</td>\n",
              "    </tr>\n",
              "  </tbody>\n",
              "</table>\n",
              "</div>\n",
              "      <button class=\"colab-df-convert\" onclick=\"convertToInteractive('df-05bd0711-c451-4ed3-95bc-ed933258cc59')\"\n",
              "              title=\"Convert this dataframe to an interactive table.\"\n",
              "              style=\"display:none;\">\n",
              "        \n",
              "  <svg xmlns=\"http://www.w3.org/2000/svg\" height=\"24px\"viewBox=\"0 0 24 24\"\n",
              "       width=\"24px\">\n",
              "    <path d=\"M0 0h24v24H0V0z\" fill=\"none\"/>\n",
              "    <path d=\"M18.56 5.44l.94 2.06.94-2.06 2.06-.94-2.06-.94-.94-2.06-.94 2.06-2.06.94zm-11 1L8.5 8.5l.94-2.06 2.06-.94-2.06-.94L8.5 2.5l-.94 2.06-2.06.94zm10 10l.94 2.06.94-2.06 2.06-.94-2.06-.94-.94-2.06-.94 2.06-2.06.94z\"/><path d=\"M17.41 7.96l-1.37-1.37c-.4-.4-.92-.59-1.43-.59-.52 0-1.04.2-1.43.59L10.3 9.45l-7.72 7.72c-.78.78-.78 2.05 0 2.83L4 21.41c.39.39.9.59 1.41.59.51 0 1.02-.2 1.41-.59l7.78-7.78 2.81-2.81c.8-.78.8-2.07 0-2.86zM5.41 20L4 18.59l7.72-7.72 1.47 1.35L5.41 20z\"/>\n",
              "  </svg>\n",
              "      </button>\n",
              "      \n",
              "  <style>\n",
              "    .colab-df-container {\n",
              "      display:flex;\n",
              "      flex-wrap:wrap;\n",
              "      gap: 12px;\n",
              "    }\n",
              "\n",
              "    .colab-df-convert {\n",
              "      background-color: #E8F0FE;\n",
              "      border: none;\n",
              "      border-radius: 50%;\n",
              "      cursor: pointer;\n",
              "      display: none;\n",
              "      fill: #1967D2;\n",
              "      height: 32px;\n",
              "      padding: 0 0 0 0;\n",
              "      width: 32px;\n",
              "    }\n",
              "\n",
              "    .colab-df-convert:hover {\n",
              "      background-color: #E2EBFA;\n",
              "      box-shadow: 0px 1px 2px rgba(60, 64, 67, 0.3), 0px 1px 3px 1px rgba(60, 64, 67, 0.15);\n",
              "      fill: #174EA6;\n",
              "    }\n",
              "\n",
              "    [theme=dark] .colab-df-convert {\n",
              "      background-color: #3B4455;\n",
              "      fill: #D2E3FC;\n",
              "    }\n",
              "\n",
              "    [theme=dark] .colab-df-convert:hover {\n",
              "      background-color: #434B5C;\n",
              "      box-shadow: 0px 1px 3px 1px rgba(0, 0, 0, 0.15);\n",
              "      filter: drop-shadow(0px 1px 2px rgba(0, 0, 0, 0.3));\n",
              "      fill: #FFFFFF;\n",
              "    }\n",
              "  </style>\n",
              "\n",
              "      <script>\n",
              "        const buttonEl =\n",
              "          document.querySelector('#df-05bd0711-c451-4ed3-95bc-ed933258cc59 button.colab-df-convert');\n",
              "        buttonEl.style.display =\n",
              "          google.colab.kernel.accessAllowed ? 'block' : 'none';\n",
              "\n",
              "        async function convertToInteractive(key) {\n",
              "          const element = document.querySelector('#df-05bd0711-c451-4ed3-95bc-ed933258cc59');\n",
              "          const dataTable =\n",
              "            await google.colab.kernel.invokeFunction('convertToInteractive',\n",
              "                                                     [key], {});\n",
              "          if (!dataTable) return;\n",
              "\n",
              "          const docLinkHtml = 'Like what you see? Visit the ' +\n",
              "            '<a target=\"_blank\" href=https://colab.research.google.com/notebooks/data_table.ipynb>data table notebook</a>'\n",
              "            + ' to learn more about interactive tables.';\n",
              "          element.innerHTML = '';\n",
              "          dataTable['output_type'] = 'display_data';\n",
              "          await google.colab.output.renderOutput(dataTable, element);\n",
              "          const docLink = document.createElement('div');\n",
              "          docLink.innerHTML = docLinkHtml;\n",
              "          element.appendChild(docLink);\n",
              "        }\n",
              "      </script>\n",
              "    </div>\n",
              "  </div>\n",
              "  "
            ]
          },
          "metadata": {},
          "execution_count": 38
        }
      ],
      "id": "bd00e879-815e-454d-af83-9a82b99759e0"
    },
    {
      "cell_type": "code",
      "source": [
        ""
      ],
      "metadata": {
        "id": "199a4040-2deb-4ae6-91b8-e31026da3816"
      },
      "execution_count": null,
      "outputs": [],
      "id": "199a4040-2deb-4ae6-91b8-e31026da3816"
    }
  ]
}